{
 "cells": [
  {
   "cell_type": "code",
   "execution_count": null,
   "metadata": {
    "colab": {
     "base_uri": "https://localhost:8080/"
    },
    "id": "YfVGMp8AkODF",
    "outputId": "5b8591e9-4f13-4b02-d1e1-39179255268f"
   },
   "outputs": [
    {
     "name": "stdout",
     "output_type": "stream",
     "text": [
      "\u001b[2K     \u001b[90m━━━━━━━━━━━━━━━━━━━━━━━━━━━━━━━━━━━━━━━━\u001b[0m \u001b[32m50.4/50.4 kB\u001b[0m \u001b[31m575.8 kB/s\u001b[0m eta \u001b[36m0:00:00\u001b[0m\n",
      "\u001b[2K   \u001b[90m━━━━━━━━━━━━━━━━━━━━━━━━━━━━━━━━━━━━━━━━\u001b[0m \u001b[32m997.8/997.8 kB\u001b[0m \u001b[31m7.6 MB/s\u001b[0m eta \u001b[36m0:00:00\u001b[0m\n",
      "\u001b[2K   \u001b[90m━━━━━━━━━━━━━━━━━━━━━━━━━━━━━━━━━━━━━━━━\u001b[0m \u001b[32m49.8/49.8 kB\u001b[0m \u001b[31m1.7 MB/s\u001b[0m eta \u001b[36m0:00:00\u001b[0m\n",
      "\u001b[2K   \u001b[90m━━━━━━━━━━━━━━━━━━━━━━━━━━━━━━━━━━━━━━━━\u001b[0m \u001b[32m361.5/361.5 kB\u001b[0m \u001b[31m14.5 MB/s\u001b[0m eta \u001b[36m0:00:00\u001b[0m\n",
      "\u001b[2K   \u001b[90m━━━━━━━━━━━━━━━━━━━━━━━━━━━━━━━━━━━━━━━━\u001b[0m \u001b[32m1.1/1.1 MB\u001b[0m \u001b[31m30.3 MB/s\u001b[0m eta \u001b[36m0:00:00\u001b[0m\n",
      "\u001b[2K   \u001b[90m━━━━━━━━━━━━━━━━━━━━━━━━━━━━━━━━━━━━━━━━\u001b[0m \u001b[32m75.6/75.6 kB\u001b[0m \u001b[31m3.8 MB/s\u001b[0m eta \u001b[36m0:00:00\u001b[0m\n",
      "\u001b[2K   \u001b[90m━━━━━━━━━━━━━━━━━━━━━━━━━━━━━━━━━━━━━━━━\u001b[0m \u001b[32m77.9/77.9 kB\u001b[0m \u001b[31m4.5 MB/s\u001b[0m eta \u001b[36m0:00:00\u001b[0m\n",
      "\u001b[2K   \u001b[90m━━━━━━━━━━━━━━━━━━━━━━━━━━━━━━━━━━━━━━━━\u001b[0m \u001b[32m318.9/318.9 kB\u001b[0m \u001b[31m15.5 MB/s\u001b[0m eta \u001b[36m0:00:00\u001b[0m\n",
      "\u001b[2K   \u001b[90m━━━━━━━━━━━━━━━━━━━━━━━━━━━━━━━━━━━━━━━━\u001b[0m \u001b[32m389.8/389.8 kB\u001b[0m \u001b[31m15.0 MB/s\u001b[0m eta \u001b[36m0:00:00\u001b[0m\n",
      "\u001b[2K   \u001b[90m━━━━━━━━━━━━━━━━━━━━━━━━━━━━━━━━━━━━━━━━\u001b[0m \u001b[32m140.4/140.4 kB\u001b[0m \u001b[31m8.0 MB/s\u001b[0m eta \u001b[36m0:00:00\u001b[0m\n",
      "\u001b[2K   \u001b[90m━━━━━━━━━━━━━━━━━━━━━━━━━━━━━━━━━━━━━━━━\u001b[0m \u001b[32m141.9/141.9 kB\u001b[0m \u001b[31m6.9 MB/s\u001b[0m eta \u001b[36m0:00:00\u001b[0m\n",
      "\u001b[2K   \u001b[90m━━━━━━━━━━━━━━━━━━━━━━━━━━━━━━━━━━━━━━━━\u001b[0m \u001b[32m58.3/58.3 kB\u001b[0m \u001b[31m3.4 MB/s\u001b[0m eta \u001b[36m0:00:00\u001b[0m\n",
      "\u001b[?25h"
     ]
    }
   ],
   "source": [
    "!pip install langchain langchain-openai openai tiktoken -q"
   ]
  },
  {
   "cell_type": "code",
   "execution_count": 1,
   "metadata": {
    "id": "lBznbmZ9nOa-"
   },
   "outputs": [],
   "source": [
    "from getpass import getpass"
   ]
  },
  {
   "cell_type": "markdown",
   "metadata": {
    "id": "0dt0Sf3xnS3m"
   },
   "source": [
    "## Если используете ключ от OpenAI, запустите эту ячейку 👇"
   ]
  },
  {
   "cell_type": "code",
   "execution_count": 2,
   "metadata": {
    "colab": {
     "base_uri": "https://localhost:8080/"
    },
    "id": "a2ZTWMEynSrk",
    "outputId": "1a6c4b91-e58d-439c-a519-86746cce9c5c"
   },
   "outputs": [],
   "source": [
    "import os\n",
    "from langchain_openai import ChatOpenAI\n",
    "\n",
    "\n",
    "# os.environ['OPENAI_API_KEY'] = \"Введите ваш OpenAI API ключ\"\n",
    "os.environ['OPENAI_API_KEY'] = getpass(prompt='Введите ваш OpenAI API ключ')\n",
    "\n",
    "# Инициализируем языковую модель\n",
    "llm = ChatOpenAI(temperature=0.0)"
   ]
  },
  {
   "cell_type": "markdown",
   "metadata": {
    "id": "S6LFfoYSnfVO"
   },
   "source": [
    "## Если используете ключ из курса, запустите эти ячейки 👇"
   ]
  },
  {
   "cell_type": "code",
   "execution_count": 2,
   "metadata": {
    "colab": {
     "base_uri": "https://localhost:8080/"
    },
    "id": "5dTISH0jne2z",
    "outputId": "55b7c3bd-1e65-41c3-f5eb-8f041ce4f337"
   },
   "outputs": [
    {
     "name": "stdout",
     "output_type": "stream",
     "text": [
      "--2025-05-07 18:14:17--  https://raw.githubusercontent.com/a-milenkin/LLM_practical_course/main/notebooks/utils.py\n",
      "Resolving raw.githubusercontent.com (raw.githubusercontent.com)... 185.199.108.133, 185.199.111.133, 185.199.109.133, ...\n",
      "Connecting to raw.githubusercontent.com (raw.githubusercontent.com)|185.199.108.133|:443... connected.\n",
      "HTTP request sent, awaiting response... 200 OK\n",
      "Length: 11316 (11K) [text/plain]\n",
      "Saving to: ‘utils.py.2’\n",
      "\n",
      "utils.py.2          100%[===================>]  11.05K  --.-KB/s    in 0s      \n",
      "\n",
      "2025-05-07 18:14:19 (125 MB/s) - ‘utils.py.2’ saved [11316/11316]\n",
      "\n"
     ]
    }
   ],
   "source": [
    "!wget https://raw.githubusercontent.com/a-milenkin/LLM_practical_course/main/notebooks/utils.py"
   ]
  },
  {
   "cell_type": "code",
   "execution_count": 3,
   "metadata": {
    "colab": {
     "base_uri": "https://localhost:8080/"
    },
    "id": "ATSJBycqnj9j",
    "outputId": "d8cc19a8-f2ba-4680-82fd-150ad31743e3"
   },
   "outputs": [],
   "source": [
    "from utils import ChatOpenAI\n",
    "from getpass import getpass\n",
    "\n",
    "#course_api_key= \"Введите ваш API ключ, полученный в боте курса\"\n",
    "course_api_key = getpass(prompt='Введите ваш API ключ, полученный в боте курса')\n",
    "\n",
    "# инициализируем языковую модель\n",
    "llm = ChatOpenAI(temperature=0.0, course_api_key=course_api_key)"
   ]
  },
  {
   "cell_type": "markdown",
   "metadata": {
    "id": "AX_cKZihoXnP"
   },
   "source": [
    "💾 Добавим памяти LLM'ке! 🦙\n",
    "\n",
    "\n",
    "\n",
    "\n",
    "\n"
   ]
  },
  {
   "cell_type": "code",
   "execution_count": 4,
   "metadata": {
    "id": "4sUfanNNoZUh"
   },
   "outputs": [],
   "source": [
    "# подгрузим датасет\n",
    "import pandas as pd\n",
    "\n",
    "df = pd.read_csv(\"https://stepik.org/media/attachments/lesson/1084404/dial_df.csv\")"
   ]
  },
  {
   "cell_type": "code",
   "execution_count": 5,
   "metadata": {},
   "outputs": [
    {
     "data": {
      "application/vnd.microsoft.datawrangler.viewer.v0+json": {
       "columns": [
        {
         "name": "index",
         "rawType": "int64",
         "type": "integer"
        },
        {
         "name": "dialogue_id",
         "rawType": "int64",
         "type": "integer"
        },
        {
         "name": "question",
         "rawType": "object",
         "type": "string"
        }
       ],
       "ref": "43e1903c-06f4-4123-80b5-cc91c7b0a16c",
       "rows": [
        [
         "0",
         "1",
         "Под каким номером играл Криштиану Роналду в Ювентусе?"
        ],
        [
         "1",
         "1",
         "Под каким номером он играл в Манчестер Юнайтед?"
        ],
        [
         "2",
         "1",
         "В каком году он был рожден?"
        ],
        [
         "3",
         "2",
         "Сколько лет прожил величайший русский поэт Александр Сергеевич Пушкин?"
        ],
        [
         "4",
         "2",
         "В каком году он родился?"
        ],
        [
         "5",
         "2",
         "Дуэль в каком году стала для него последней?"
        ],
        [
         "6",
         "3",
         "Сколько было участников в золотом составе группы Битлз?"
        ],
        [
         "7",
         "3",
         "В каком году родился барабанщик золотого состава группы?"
        ],
        [
         "8",
         "3",
         "В каком году распалась группа?"
        ],
        [
         "9",
         "4",
         "В каком году родился Альберт Эйнштейн?"
        ],
        [
         "10",
         "4",
         "В каком году он умер?"
        ],
        [
         "11",
         "4",
         "Сколько лет всего прожил?"
        ],
        [
         "12",
         "5",
         "Из скольких различных азотистых оснований состоит ДНК?"
        ],
        [
         "13",
         "5",
         "В каком году была получена Нобелевская премия за ее открытие?"
        ],
        [
         "14",
         "6",
         "Сколько хромосом у человека?"
        ],
        [
         "15",
         "6",
         "А у кошки?"
        ],
        [
         "16",
         "7",
         "Сколько всего восьмитысячников?"
        ],
        [
         "17",
         "7",
         "Напишите высоту самого высокого в метрах?"
        ]
       ],
       "shape": {
        "columns": 2,
        "rows": 18
       }
      },
      "text/html": [
       "<div>\n",
       "<style scoped>\n",
       "    .dataframe tbody tr th:only-of-type {\n",
       "        vertical-align: middle;\n",
       "    }\n",
       "\n",
       "    .dataframe tbody tr th {\n",
       "        vertical-align: top;\n",
       "    }\n",
       "\n",
       "    .dataframe thead th {\n",
       "        text-align: right;\n",
       "    }\n",
       "</style>\n",
       "<table border=\"1\" class=\"dataframe\">\n",
       "  <thead>\n",
       "    <tr style=\"text-align: right;\">\n",
       "      <th></th>\n",
       "      <th>dialogue_id</th>\n",
       "      <th>question</th>\n",
       "    </tr>\n",
       "  </thead>\n",
       "  <tbody>\n",
       "    <tr>\n",
       "      <th>0</th>\n",
       "      <td>1</td>\n",
       "      <td>Под каким номером играл Криштиану Роналду в Юв...</td>\n",
       "    </tr>\n",
       "    <tr>\n",
       "      <th>1</th>\n",
       "      <td>1</td>\n",
       "      <td>Под каким номером он играл в Манчестер Юнайтед?</td>\n",
       "    </tr>\n",
       "    <tr>\n",
       "      <th>2</th>\n",
       "      <td>1</td>\n",
       "      <td>В каком году он был рожден?</td>\n",
       "    </tr>\n",
       "    <tr>\n",
       "      <th>3</th>\n",
       "      <td>2</td>\n",
       "      <td>Сколько лет прожил величайший русский поэт Але...</td>\n",
       "    </tr>\n",
       "    <tr>\n",
       "      <th>4</th>\n",
       "      <td>2</td>\n",
       "      <td>В каком году он родился?</td>\n",
       "    </tr>\n",
       "    <tr>\n",
       "      <th>5</th>\n",
       "      <td>2</td>\n",
       "      <td>Дуэль в каком году стала для него последней?</td>\n",
       "    </tr>\n",
       "    <tr>\n",
       "      <th>6</th>\n",
       "      <td>3</td>\n",
       "      <td>Сколько было участников в золотом составе груп...</td>\n",
       "    </tr>\n",
       "    <tr>\n",
       "      <th>7</th>\n",
       "      <td>3</td>\n",
       "      <td>В каком году родился барабанщик золотого соста...</td>\n",
       "    </tr>\n",
       "    <tr>\n",
       "      <th>8</th>\n",
       "      <td>3</td>\n",
       "      <td>В каком году распалась группа?</td>\n",
       "    </tr>\n",
       "    <tr>\n",
       "      <th>9</th>\n",
       "      <td>4</td>\n",
       "      <td>В каком году родился Альберт Эйнштейн?</td>\n",
       "    </tr>\n",
       "    <tr>\n",
       "      <th>10</th>\n",
       "      <td>4</td>\n",
       "      <td>В каком году он умер?</td>\n",
       "    </tr>\n",
       "    <tr>\n",
       "      <th>11</th>\n",
       "      <td>4</td>\n",
       "      <td>Сколько лет всего прожил?</td>\n",
       "    </tr>\n",
       "    <tr>\n",
       "      <th>12</th>\n",
       "      <td>5</td>\n",
       "      <td>Из скольких различных азотистых оснований сост...</td>\n",
       "    </tr>\n",
       "    <tr>\n",
       "      <th>13</th>\n",
       "      <td>5</td>\n",
       "      <td>В каком году была получена Нобелевская премия ...</td>\n",
       "    </tr>\n",
       "    <tr>\n",
       "      <th>14</th>\n",
       "      <td>6</td>\n",
       "      <td>Сколько хромосом у человека?</td>\n",
       "    </tr>\n",
       "    <tr>\n",
       "      <th>15</th>\n",
       "      <td>6</td>\n",
       "      <td>А у кошки?</td>\n",
       "    </tr>\n",
       "    <tr>\n",
       "      <th>16</th>\n",
       "      <td>7</td>\n",
       "      <td>Сколько всего восьмитысячников?</td>\n",
       "    </tr>\n",
       "    <tr>\n",
       "      <th>17</th>\n",
       "      <td>7</td>\n",
       "      <td>Напишите высоту самого высокого в метрах?</td>\n",
       "    </tr>\n",
       "  </tbody>\n",
       "</table>\n",
       "</div>"
      ],
      "text/plain": [
       "    dialogue_id                                           question\n",
       "0             1  Под каким номером играл Криштиану Роналду в Юв...\n",
       "1             1    Под каким номером он играл в Манчестер Юнайтед?\n",
       "2             1                        В каком году он был рожден?\n",
       "3             2  Сколько лет прожил величайший русский поэт Але...\n",
       "4             2                           В каком году он родился?\n",
       "5             2       Дуэль в каком году стала для него последней?\n",
       "6             3  Сколько было участников в золотом составе груп...\n",
       "7             3  В каком году родился барабанщик золотого соста...\n",
       "8             3                     В каком году распалась группа?\n",
       "9             4             В каком году родился Альберт Эйнштейн?\n",
       "10            4                              В каком году он умер?\n",
       "11            4                          Сколько лет всего прожил?\n",
       "12            5  Из скольких различных азотистых оснований сост...\n",
       "13            5  В каком году была получена Нобелевская премия ...\n",
       "14            6                       Сколько хромосом у человека?\n",
       "15            6                                         А у кошки?\n",
       "16            7                    Сколько всего восьмитысячников?\n",
       "17            7          Напишите высоту самого высокого в метрах?"
      ]
     },
     "execution_count": 5,
     "metadata": {},
     "output_type": "execute_result"
    }
   ],
   "source": [
    "df"
   ]
  },
  {
   "cell_type": "code",
   "execution_count": 8,
   "metadata": {
    "id": "UKj1g552oZW1"
   },
   "outputs": [],
   "source": [
    "# Импортируйте модуль памяти\n",
    "from langchain.chains import ConversationChain, LLMChain\n",
    "from langchain.memory import ConversationBufferMemory\n",
    "from langchain.prompts import PromptTemplate\n",
    "# Создайте экземпляр памяти"
   ]
  },
  {
   "cell_type": "code",
   "execution_count": 9,
   "metadata": {
    "colab": {
     "base_uri": "https://localhost:8080/"
    },
    "id": "0a5wMimWqLR4",
    "outputId": "c45c39d9-38ed-44bf-cf84-bbdf5b7fefa0"
   },
   "outputs": [
    {
     "name": "stderr",
     "output_type": "stream",
     "text": [
      "/tmp/ipykernel_301133/2445047712.py:2: LangChainDeprecationWarning: Please see the migration guide at: https://python.langchain.com/docs/versions/migrating_memory/\n",
      "  memory = ConversationBufferMemory()\n",
      "/tmp/ipykernel_301133/2445047712.py:3: LangChainDeprecationWarning: The class `ConversationChain` was deprecated in LangChain 0.2.7 and will be removed in 1.0. Use :meth:`~RunnableWithMessageHistory: https://python.langchain.com/v0.2/api_reference/core/runnables/langchain_core.runnables.history.RunnableWithMessageHistory.html` instead.\n",
      "  conversation_buf_mem = ConversationChain(\n"
     ]
    }
   ],
   "source": [
    "# создайте цепочку диалога, в параметры передайте языковую модель и память\n",
    "memory = ConversationBufferMemory()\n",
    "conversation_buf_mem = ConversationChain(\n",
    "    llm=llm,  # языковая модель\n",
    "    memory=memory, # модуль памяти\n",
    "    verbose=True # отображать логи в консоли или нет\n",
    ")"
   ]
  },
  {
   "cell_type": "code",
   "execution_count": 15,
   "metadata": {
    "id": "VCGilIdbqLPE"
   },
   "outputs": [
    {
     "name": "stdout",
     "output_type": "stream",
     "text": [
      "Начинаем новый диалог 1\n",
      "\n",
      "\n",
      "\u001b[1m> Entering new ConversationChain chain...\u001b[0m\n",
      "Prompt after formatting:\n",
      "\u001b[32;1m\u001b[1;3mThe following is a friendly conversation between a human and an AI. The AI is talkative and provides lots of specific details from its context. If the AI does not know the answer to a question, it truthfully says it does not know.\n",
      "\n",
      "Current conversation:\n",
      "\n",
      "Human: Под каким номером играл Криштиану Роналду в Ювентусе?. Ответь только целым числом, без пояснений.\n",
      "AI:\u001b[0m\n",
      "\n",
      "\u001b[1m> Finished chain.\u001b[0m\n",
      "Вопрос: Под каким номером играл Криштиану Роналду в Ювентусе?, Ответ: 7\n",
      "\n",
      "\n",
      "\u001b[1m> Entering new ConversationChain chain...\u001b[0m\n",
      "Prompt after formatting:\n",
      "\u001b[32;1m\u001b[1;3mThe following is a friendly conversation between a human and an AI. The AI is talkative and provides lots of specific details from its context. If the AI does not know the answer to a question, it truthfully says it does not know.\n",
      "\n",
      "Current conversation:\n",
      "Human: Под каким номером играл Криштиану Роналду в Ювентусе?. Ответь только целым числом, без пояснений.\n",
      "AI: 7\n",
      "Human: Под каким номером он играл в Манчестер Юнайтед?. Ответь только целым числом, без пояснений.\n",
      "AI:\u001b[0m\n",
      "\n",
      "\u001b[1m> Finished chain.\u001b[0m\n",
      "Вопрос: Под каким номером он играл в Манчестер Юнайтед?, Ответ: 7\n",
      "\n",
      "\n",
      "\u001b[1m> Entering new ConversationChain chain...\u001b[0m\n",
      "Prompt after formatting:\n",
      "\u001b[32;1m\u001b[1;3mThe following is a friendly conversation between a human and an AI. The AI is talkative and provides lots of specific details from its context. If the AI does not know the answer to a question, it truthfully says it does not know.\n",
      "\n",
      "Current conversation:\n",
      "Human: Под каким номером играл Криштиану Роналду в Ювентусе?. Ответь только целым числом, без пояснений.\n",
      "AI: 7\n",
      "Human: Под каким номером он играл в Манчестер Юнайтед?. Ответь только целым числом, без пояснений.\n",
      "AI: 7\n",
      "Human: В каком году он был рожден?. Ответь только целым числом, без пояснений.\n",
      "AI:\u001b[0m\n",
      "\n",
      "\u001b[1m> Finished chain.\u001b[0m\n",
      "Вопрос: В каком году он был рожден?, Ответ: 1985\n",
      "Начинаем новый диалог 2\n",
      "\n",
      "\n",
      "\u001b[1m> Entering new ConversationChain chain...\u001b[0m\n",
      "Prompt after formatting:\n",
      "\u001b[32;1m\u001b[1;3mThe following is a friendly conversation between a human and an AI. The AI is talkative and provides lots of specific details from its context. If the AI does not know the answer to a question, it truthfully says it does not know.\n",
      "\n",
      "Current conversation:\n",
      "\n",
      "Human: Сколько лет прожил величайший русский поэт Александр Сергеевич Пушкин?. Ответь только целым числом, без пояснений.\n",
      "AI:\u001b[0m\n",
      "\n",
      "\u001b[1m> Finished chain.\u001b[0m\n",
      "Вопрос: Сколько лет прожил величайший русский поэт Александр Сергеевич Пушкин?, Ответ: 37\n",
      "\n",
      "\n",
      "\u001b[1m> Entering new ConversationChain chain...\u001b[0m\n",
      "Prompt after formatting:\n",
      "\u001b[32;1m\u001b[1;3mThe following is a friendly conversation between a human and an AI. The AI is talkative and provides lots of specific details from its context. If the AI does not know the answer to a question, it truthfully says it does not know.\n",
      "\n",
      "Current conversation:\n",
      "Human: Сколько лет прожил величайший русский поэт Александр Сергеевич Пушкин?. Ответь только целым числом, без пояснений.\n",
      "AI: 37\n",
      "Human: В каком году он родился?. Ответь только целым числом, без пояснений.\n",
      "AI:\u001b[0m\n",
      "\n",
      "\u001b[1m> Finished chain.\u001b[0m\n",
      "Вопрос: В каком году он родился?, Ответ: 1799\n",
      "\n",
      "\n",
      "\u001b[1m> Entering new ConversationChain chain...\u001b[0m\n",
      "Prompt after formatting:\n",
      "\u001b[32;1m\u001b[1;3mThe following is a friendly conversation between a human and an AI. The AI is talkative and provides lots of specific details from its context. If the AI does not know the answer to a question, it truthfully says it does not know.\n",
      "\n",
      "Current conversation:\n",
      "Human: Сколько лет прожил величайший русский поэт Александр Сергеевич Пушкин?. Ответь только целым числом, без пояснений.\n",
      "AI: 37\n",
      "Human: В каком году он родился?. Ответь только целым числом, без пояснений.\n",
      "AI: 1799\n",
      "Human: Дуэль в каком году стала для него последней?. Ответь только целым числом, без пояснений.\n",
      "AI:\u001b[0m\n",
      "\n",
      "\u001b[1m> Finished chain.\u001b[0m\n",
      "Вопрос: Дуэль в каком году стала для него последней?, Ответ: 1837\n",
      "Начинаем новый диалог 3\n",
      "\n",
      "\n",
      "\u001b[1m> Entering new ConversationChain chain...\u001b[0m\n",
      "Prompt after formatting:\n",
      "\u001b[32;1m\u001b[1;3mThe following is a friendly conversation between a human and an AI. The AI is talkative and provides lots of specific details from its context. If the AI does not know the answer to a question, it truthfully says it does not know.\n",
      "\n",
      "Current conversation:\n",
      "\n",
      "Human: Сколько было участников в золотом составе группы Битлз?. Ответь только целым числом, без пояснений.\n",
      "AI:\u001b[0m\n",
      "\n",
      "\u001b[1m> Finished chain.\u001b[0m\n",
      "Не удалось извлечь число из ответа: Четыре.\n",
      "Вопрос: Сколько было участников в золотом составе группы Битлз?, Ответ: 0\n",
      "\n",
      "\n",
      "\u001b[1m> Entering new ConversationChain chain...\u001b[0m\n",
      "Prompt after formatting:\n",
      "\u001b[32;1m\u001b[1;3mThe following is a friendly conversation between a human and an AI. The AI is talkative and provides lots of specific details from its context. If the AI does not know the answer to a question, it truthfully says it does not know.\n",
      "\n",
      "Current conversation:\n",
      "Human: Сколько было участников в золотом составе группы Битлз?. Ответь только целым числом, без пояснений.\n",
      "AI: Четыре.\n",
      "Human: В каком году родился барабанщик золотого состава группы?. Ответь только целым числом, без пояснений.\n",
      "AI:\u001b[0m\n",
      "\n",
      "\u001b[1m> Finished chain.\u001b[0m\n",
      "Вопрос: В каком году родился барабанщик золотого состава группы?, Ответ: 1940\n",
      "\n",
      "\n",
      "\u001b[1m> Entering new ConversationChain chain...\u001b[0m\n",
      "Prompt after formatting:\n",
      "\u001b[32;1m\u001b[1;3mThe following is a friendly conversation between a human and an AI. The AI is talkative and provides lots of specific details from its context. If the AI does not know the answer to a question, it truthfully says it does not know.\n",
      "\n",
      "Current conversation:\n",
      "Human: Сколько было участников в золотом составе группы Битлз?. Ответь только целым числом, без пояснений.\n",
      "AI: Четыре.\n",
      "Human: В каком году родился барабанщик золотого состава группы?. Ответь только целым числом, без пояснений.\n",
      "AI: 1940.\n",
      "Human: В каком году распалась группа?. Ответь только целым числом, без пояснений.\n",
      "AI:\u001b[0m\n",
      "\n",
      "\u001b[1m> Finished chain.\u001b[0m\n",
      "Вопрос: В каком году распалась группа?, Ответ: 1970\n",
      "Начинаем новый диалог 4\n",
      "\n",
      "\n",
      "\u001b[1m> Entering new ConversationChain chain...\u001b[0m\n",
      "Prompt after formatting:\n",
      "\u001b[32;1m\u001b[1;3mThe following is a friendly conversation between a human and an AI. The AI is talkative and provides lots of specific details from its context. If the AI does not know the answer to a question, it truthfully says it does not know.\n",
      "\n",
      "Current conversation:\n",
      "\n",
      "Human: В каком году родился Альберт Эйнштейн?. Ответь только целым числом, без пояснений.\n",
      "AI:\u001b[0m\n",
      "\n",
      "\u001b[1m> Finished chain.\u001b[0m\n",
      "Вопрос: В каком году родился Альберт Эйнштейн?, Ответ: 1879\n",
      "\n",
      "\n",
      "\u001b[1m> Entering new ConversationChain chain...\u001b[0m\n",
      "Prompt after formatting:\n",
      "\u001b[32;1m\u001b[1;3mThe following is a friendly conversation between a human and an AI. The AI is talkative and provides lots of specific details from its context. If the AI does not know the answer to a question, it truthfully says it does not know.\n",
      "\n",
      "Current conversation:\n",
      "Human: В каком году родился Альберт Эйнштейн?. Ответь только целым числом, без пояснений.\n",
      "AI: 1879\n",
      "Human: В каком году он умер?. Ответь только целым числом, без пояснений.\n",
      "AI:\u001b[0m\n",
      "\n",
      "\u001b[1m> Finished chain.\u001b[0m\n",
      "Вопрос: В каком году он умер?, Ответ: 1955\n",
      "\n",
      "\n",
      "\u001b[1m> Entering new ConversationChain chain...\u001b[0m\n",
      "Prompt after formatting:\n",
      "\u001b[32;1m\u001b[1;3mThe following is a friendly conversation between a human and an AI. The AI is talkative and provides lots of specific details from its context. If the AI does not know the answer to a question, it truthfully says it does not know.\n",
      "\n",
      "Current conversation:\n",
      "Human: В каком году родился Альберт Эйнштейн?. Ответь только целым числом, без пояснений.\n",
      "AI: 1879\n",
      "Human: В каком году он умер?. Ответь только целым числом, без пояснений.\n",
      "AI: 1955\n",
      "Human: Сколько лет всего прожил?. Ответь только целым числом, без пояснений.\n",
      "AI:\u001b[0m\n",
      "\n",
      "\u001b[1m> Finished chain.\u001b[0m\n",
      "Вопрос: Сколько лет всего прожил?, Ответ: 76\n",
      "Начинаем новый диалог 5\n",
      "\n",
      "\n",
      "\u001b[1m> Entering new ConversationChain chain...\u001b[0m\n",
      "Prompt after formatting:\n",
      "\u001b[32;1m\u001b[1;3mThe following is a friendly conversation between a human and an AI. The AI is talkative and provides lots of specific details from its context. If the AI does not know the answer to a question, it truthfully says it does not know.\n",
      "\n",
      "Current conversation:\n",
      "\n",
      "Human: Из скольких различных азотистых оснований состоит ДНК?. Ответь только целым числом, без пояснений.\n",
      "AI:\u001b[0m\n",
      "\n",
      "\u001b[1m> Finished chain.\u001b[0m\n",
      "Не удалось извлечь число из ответа: Четырех.\n",
      "Вопрос: Из скольких различных азотистых оснований состоит ДНК?, Ответ: 0\n",
      "\n",
      "\n",
      "\u001b[1m> Entering new ConversationChain chain...\u001b[0m\n",
      "Prompt after formatting:\n",
      "\u001b[32;1m\u001b[1;3mThe following is a friendly conversation between a human and an AI. The AI is talkative and provides lots of specific details from its context. If the AI does not know the answer to a question, it truthfully says it does not know.\n",
      "\n",
      "Current conversation:\n",
      "Human: Из скольких различных азотистых оснований состоит ДНК?. Ответь только целым числом, без пояснений.\n",
      "AI: Четырех.\n",
      "Human: В каком году была получена Нобелевская премия за ее открытие?. Ответь только целым числом, без пояснений.\n",
      "AI:\u001b[0m\n",
      "\n",
      "\u001b[1m> Finished chain.\u001b[0m\n",
      "Вопрос: В каком году была получена Нобелевская премия за ее открытие?, Ответ: 1962\n",
      "Начинаем новый диалог 6\n",
      "\n",
      "\n",
      "\u001b[1m> Entering new ConversationChain chain...\u001b[0m\n",
      "Prompt after formatting:\n",
      "\u001b[32;1m\u001b[1;3mThe following is a friendly conversation between a human and an AI. The AI is talkative and provides lots of specific details from its context. If the AI does not know the answer to a question, it truthfully says it does not know.\n",
      "\n",
      "Current conversation:\n",
      "\n",
      "Human: Сколько хромосом у человека?. Ответь только целым числом, без пояснений.\n",
      "AI:\u001b[0m\n",
      "\n",
      "\u001b[1m> Finished chain.\u001b[0m\n",
      "Вопрос: Сколько хромосом у человека?, Ответ: 46\n",
      "\n",
      "\n",
      "\u001b[1m> Entering new ConversationChain chain...\u001b[0m\n",
      "Prompt after formatting:\n",
      "\u001b[32;1m\u001b[1;3mThe following is a friendly conversation between a human and an AI. The AI is talkative and provides lots of specific details from its context. If the AI does not know the answer to a question, it truthfully says it does not know.\n",
      "\n",
      "Current conversation:\n",
      "Human: Сколько хромосом у человека?. Ответь только целым числом, без пояснений.\n",
      "AI: 46\n",
      "Human: А у кошки?. Ответь только целым числом, без пояснений.\n",
      "AI:\u001b[0m\n",
      "\n",
      "\u001b[1m> Finished chain.\u001b[0m\n",
      "Вопрос: А у кошки?, Ответ: 38\n",
      "Начинаем новый диалог 7\n",
      "\n",
      "\n",
      "\u001b[1m> Entering new ConversationChain chain...\u001b[0m\n",
      "Prompt after formatting:\n",
      "\u001b[32;1m\u001b[1;3mThe following is a friendly conversation between a human and an AI. The AI is talkative and provides lots of specific details from its context. If the AI does not know the answer to a question, it truthfully says it does not know.\n",
      "\n",
      "Current conversation:\n",
      "\n",
      "Human: Сколько всего восьмитысячников?. Ответь только целым числом, без пояснений.\n",
      "AI:\u001b[0m\n",
      "\n",
      "\u001b[1m> Finished chain.\u001b[0m\n",
      "Вопрос: Сколько всего восьмитысячников?, Ответ: 14\n",
      "\n",
      "\n",
      "\u001b[1m> Entering new ConversationChain chain...\u001b[0m\n",
      "Prompt after formatting:\n",
      "\u001b[32;1m\u001b[1;3mThe following is a friendly conversation between a human and an AI. The AI is talkative and provides lots of specific details from its context. If the AI does not know the answer to a question, it truthfully says it does not know.\n",
      "\n",
      "Current conversation:\n",
      "Human: Сколько всего восьмитысячников?. Ответь только целым числом, без пояснений.\n",
      "AI: 14\n",
      "Human: Напишите высоту самого высокого в метрах?. Ответь только целым числом, без пояснений.\n",
      "AI:\u001b[0m\n",
      "\n",
      "\u001b[1m> Finished chain.\u001b[0m\n",
      "Вопрос: Напишите высоту самого высокого в метрах?, Ответ: 8848\n"
     ]
    }
   ],
   "source": [
    "# ответьте на вопросы с помощью ЛЛМки\n",
    "ans = []\n",
    "current_dialogue = None  # переменная для отслеживания текущего диалога\n",
    "\n",
    "for id, q in zip(df['dialogue_id'], df['question']):\n",
    "    # Если сменился диалог, очищаем память\n",
    "    if current_dialogue != id:\n",
    "        memory.clear()\n",
    "        current_dialogue = id\n",
    "        print(f\"Начинаем новый диалог {id}\")\n",
    "    \n",
    "    # Добавляем инструкцию получить числовой ответ\n",
    "    prompt = f\"{q}. Ответь только целым числом, без пояснений.\"\n",
    "    \n",
    "    try:\n",
    "        # Получаем ответ от модели\n",
    "        response = conversation_buf_mem.invoke(prompt)\n",
    "        \n",
    "        # Извлекаем текст ответа - ключевое исправление!\n",
    "        response_text = response['response'] if isinstance(response, dict) else response\n",
    "        \n",
    "        # Извлекаем число из ответа\n",
    "        import re\n",
    "        numbers = re.findall(r'\\d+', response_text)\n",
    "        \n",
    "        if numbers:\n",
    "            answer = int(numbers[0])  # Берем первое найденное число\n",
    "            print(f\"Вопрос: {q}, Ответ: {answer}\")\n",
    "        else:\n",
    "            # Если числа не найдены, пробуем получить ответ напрямую\n",
    "            clean_text = response_text.strip()\n",
    "            # Дополнительная проверка для случаев, когда модель вернула слово\n",
    "            try:\n",
    "                answer = int(clean_text)\n",
    "            except ValueError:\n",
    "                print(f\"Не удалось извлечь число из ответа: {clean_text}\")\n",
    "                answer = 0\n",
    "            print(f\"Вопрос: {q}, Ответ: {answer}\")\n",
    "    except Exception as e:\n",
    "        print(f\"Ошибка при обработке вопроса '{q}': {e}\")\n",
    "        # В случае ошибки используем значение по умолчанию\n",
    "        answer = 0\n",
    "    \n",
    "    ans.append(answer)"
   ]
  },
  {
   "cell_type": "code",
   "execution_count": 16,
   "metadata": {},
   "outputs": [
    {
     "data": {
      "text/plain": [
       "[7,\n",
       " 7,\n",
       " 1985,\n",
       " 37,\n",
       " 1799,\n",
       " 1837,\n",
       " 0,\n",
       " 1940,\n",
       " 1970,\n",
       " 1879,\n",
       " 1955,\n",
       " 76,\n",
       " 0,\n",
       " 1962,\n",
       " 46,\n",
       " 38,\n",
       " 14,\n",
       " 8848]"
      ]
     },
     "execution_count": 16,
     "metadata": {},
     "output_type": "execute_result"
    }
   ],
   "source": [
    "ans"
   ]
  },
  {
   "cell_type": "code",
   "execution_count": 17,
   "metadata": {
    "id": "qQJymxnZoZbh"
   },
   "outputs": [],
   "source": [
    "df['answer'] = ans # запишем предсказания в датафрейм\n",
    "df.to_csv('solution.csv', index=False) # сохраним решение в csv"
   ]
  }
 ],
 "metadata": {
  "colab": {
   "provenance": []
  },
  "kernelspec": {
   "display_name": "stepik-bQSCubr5-py3.12",
   "language": "python",
   "name": "python3"
  },
  "language_info": {
   "codemirror_mode": {
    "name": "ipython",
    "version": 3
   },
   "file_extension": ".py",
   "mimetype": "text/x-python",
   "name": "python",
   "nbconvert_exporter": "python",
   "pygments_lexer": "ipython3",
   "version": "3.12.3"
  }
 },
 "nbformat": 4,
 "nbformat_minor": 0
}
