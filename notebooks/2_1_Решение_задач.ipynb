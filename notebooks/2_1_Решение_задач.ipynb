{
 "cells": [
  {
   "cell_type": "code",
   "execution_count": 1,
   "metadata": {
    "colab": {
     "base_uri": "https://localhost:8080/"
    },
    "id": "Yk-K_mHMs7ns",
    "outputId": "6f0206db-0574-4596-984c-31769ab1a9b7"
   },
   "outputs": [
    {
     "name": "stdout",
     "output_type": "stream",
     "text": [
      "\n",
      "\u001b[1m[\u001b[0m\u001b[34;49mnotice\u001b[0m\u001b[1;39;49m]\u001b[0m\u001b[39;49m A new release of pip is available: \u001b[0m\u001b[31;49m25.0.1\u001b[0m\u001b[39;49m -> \u001b[0m\u001b[32;49m25.1\u001b[0m\n",
      "\u001b[1m[\u001b[0m\u001b[34;49mnotice\u001b[0m\u001b[1;39;49m]\u001b[0m\u001b[39;49m To update, run: \u001b[0m\u001b[32;49mpip install --upgrade pip\u001b[0m\n"
     ]
    }
   ],
   "source": [
    "!pip install openai langchain tiktoken langchain-openai langchain-community -q"
   ]
  },
  {
   "cell_type": "markdown",
   "metadata": {
    "id": "CoofhZcDtp6R"
   },
   "source": [
    "## Если используете ключ от OpenAI, запустите эту ячейку 👇\n"
   ]
  },
  {
   "cell_type": "code",
   "execution_count": 15,
   "metadata": {
    "id": "k48wWXnPtKa2"
   },
   "outputs": [],
   "source": [
    "from langchain_openai import ChatOpenAI\n",
    "import os\n",
    "from getpass import getpass\n",
    "\n",
    "\n",
    "# os.environ['OPENAI_API_KEY'] = \"Введите ваш OpenAI API ключ\"\n",
    "os.environ['OPENAI_API_KEY'] = getpass(prompt='Введите ваш OpenAI API ключ')\n",
    "\n",
    "# Инициализируем языковую модель\n",
    "llm = ChatOpenAI(temperature=0.0)"
   ]
  },
  {
   "cell_type": "markdown",
   "metadata": {
    "id": "DiQqMwQJt8rP"
   },
   "source": [
    "## Если используете ключ из курса, запустите эти ячейки 👇\n"
   ]
  },
  {
   "cell_type": "code",
   "execution_count": 1,
   "metadata": {
    "id": "Keq0WAjLuPgJ"
   },
   "outputs": [
    {
     "name": "stdout",
     "output_type": "stream",
     "text": [
      "--2025-04-30 22:42:01--  https://raw.githubusercontent.com/a-milenkin/LLM_practical_course/main/notebooks/utils.py\n",
      "Resolving raw.githubusercontent.com (raw.githubusercontent.com)... 185.199.108.133, 185.199.110.133, 185.199.111.133, ...\n",
      "Connecting to raw.githubusercontent.com (raw.githubusercontent.com)|185.199.108.133|:443... connected.\n",
      "HTTP request sent, awaiting response... 200 OK\n",
      "Length: 11316 (11K) [text/plain]\n",
      "Saving to: ‘utils.py.1’\n",
      "\n",
      "utils.py.1          100%[===================>]  11.05K  --.-KB/s    in 0.02s   \n",
      "\n",
      "2025-04-30 22:42:03 (540 KB/s) - ‘utils.py.1’ saved [11316/11316]\n",
      "\n"
     ]
    }
   ],
   "source": [
    "!wget https://raw.githubusercontent.com/a-milenkin/LLM_practical_course/main/notebooks/utils.py"
   ]
  },
  {
   "cell_type": "markdown",
   "metadata": {},
   "source": []
  },
  {
   "cell_type": "code",
   "execution_count": 18,
   "metadata": {
    "id": "PCS_WedHtPRg"
   },
   "outputs": [],
   "source": [
    "from utils import ChatOpenAI\n",
    "from getpass import getpass\n",
    "\n",
    "#course_api_key= \"Введите ваш API ключ с курса\"\n",
    "course_api_key = getpass(prompt='Введите API ключ')\n",
    "\n",
    "# Инициализируем языковую модель\n",
    "llm = ChatOpenAI(temperature=0.0, course_api_key=course_api_key)"
   ]
  },
  {
   "cell_type": "markdown",
   "metadata": {
    "id": "Z9uleJTbu6Ui"
   },
   "source": [
    "## Задание 2.1.8 LLM — сила 💪, ML — могила 🧟"
   ]
  },
  {
   "cell_type": "code",
   "execution_count": 19,
   "metadata": {
    "id": "CDMOJZ-3f0bs"
   },
   "outputs": [],
   "source": [
    "import pandas as pd\n",
    "from tqdm import tqdm"
   ]
  },
  {
   "cell_type": "code",
   "execution_count": 20,
   "metadata": {
    "id": "Avwkg164vHPH"
   },
   "outputs": [],
   "source": [
    "df = pd.read_csv('https://stepik.org/media/attachments/lesson/1084297/submission100lines.csv')"
   ]
  },
  {
   "cell_type": "code",
   "execution_count": 21,
   "metadata": {
    "colab": {
     "base_uri": "https://localhost:8080/",
     "height": 206
    },
    "id": "1x3bbJoTvNzh",
    "outputId": "040b873c-3eff-4a8b-b9ee-ebce0af4a45c"
   },
   "outputs": [
    {
     "data": {
      "application/vnd.microsoft.datawrangler.viewer.v0+json": {
       "columns": [
        {
         "name": "index",
         "rawType": "int64",
         "type": "integer"
        },
        {
         "name": "amount",
         "rawType": "int64",
         "type": "integer"
        },
        {
         "name": "text_id",
         "rawType": "int64",
         "type": "integer"
        },
        {
         "name": "text",
         "rawType": "object",
         "type": "string"
        }
       ],
       "ref": "ffbac0f1-1df3-46e4-bda5-1f881f5c3ee7",
       "rows": [
        [
         "0",
         "2",
         "14205200",
         "Сниму жилье. 500-600 рублей сутки. Эконом класса. Заезд 18.06. На 9-10 дней. На одного человека."
        ],
        [
         "1",
         "6",
         "319097075",
         "ищем жилье в центре недалеко от моря с 23.07-03.08 - нужен 1 двухместный номер, 1 трехместный, недорого. или как вариант дом на 2 семьи (5 чел)"
        ],
        [
         "2",
         "4",
         "98881311",
         "Ищем жилье на период с 18-28июля..на две семьи 4взрослых 3 детей. .1500-2000в сутки за номер"
        ],
        [
         "3",
         "4",
         "44587027",
         "2 семьи по 3 человека (2 взрослых и ребенок) с 01.09-13.09 снимем жильё в пределах 5 минут от пляжа, 1500 руб/сутки. Рассмотрим все варианты."
        ],
        [
         "4",
         "3",
         "352802829",
         "Сниму недорогое жилье в лазаревском на 6 чел 3 взр и 3 дет 30.07-09.08"
        ]
       ],
       "shape": {
        "columns": 3,
        "rows": 5
       }
      },
      "text/html": [
       "<div>\n",
       "<style scoped>\n",
       "    .dataframe tbody tr th:only-of-type {\n",
       "        vertical-align: middle;\n",
       "    }\n",
       "\n",
       "    .dataframe tbody tr th {\n",
       "        vertical-align: top;\n",
       "    }\n",
       "\n",
       "    .dataframe thead th {\n",
       "        text-align: right;\n",
       "    }\n",
       "</style>\n",
       "<table border=\"1\" class=\"dataframe\">\n",
       "  <thead>\n",
       "    <tr style=\"text-align: right;\">\n",
       "      <th></th>\n",
       "      <th>amount</th>\n",
       "      <th>text_id</th>\n",
       "      <th>text</th>\n",
       "    </tr>\n",
       "  </thead>\n",
       "  <tbody>\n",
       "    <tr>\n",
       "      <th>0</th>\n",
       "      <td>2</td>\n",
       "      <td>14205200</td>\n",
       "      <td>Сниму жилье. 500-600 рублей сутки. Эконом клас...</td>\n",
       "    </tr>\n",
       "    <tr>\n",
       "      <th>1</th>\n",
       "      <td>6</td>\n",
       "      <td>319097075</td>\n",
       "      <td>ищем жилье в центре недалеко от моря с 23.07-0...</td>\n",
       "    </tr>\n",
       "    <tr>\n",
       "      <th>2</th>\n",
       "      <td>4</td>\n",
       "      <td>98881311</td>\n",
       "      <td>Ищем жилье на период с 18-28июля..на две семьи...</td>\n",
       "    </tr>\n",
       "    <tr>\n",
       "      <th>3</th>\n",
       "      <td>4</td>\n",
       "      <td>44587027</td>\n",
       "      <td>2 семьи по 3 человека (2 взрослых и ребенок) с...</td>\n",
       "    </tr>\n",
       "    <tr>\n",
       "      <th>4</th>\n",
       "      <td>3</td>\n",
       "      <td>352802829</td>\n",
       "      <td>Сниму недорогое жилье в лазаревском на 6 чел 3...</td>\n",
       "    </tr>\n",
       "  </tbody>\n",
       "</table>\n",
       "</div>"
      ],
      "text/plain": [
       "   amount    text_id                                               text\n",
       "0       2   14205200  Сниму жилье. 500-600 рублей сутки. Эконом клас...\n",
       "1       6  319097075  ищем жилье в центре недалеко от моря с 23.07-0...\n",
       "2       4   98881311  Ищем жилье на период с 18-28июля..на две семьи...\n",
       "3       4   44587027  2 семьи по 3 человека (2 взрослых и ребенок) с...\n",
       "4       3  352802829  Сниму недорогое жилье в лазаревском на 6 чел 3..."
      ]
     },
     "execution_count": 21,
     "metadata": {},
     "output_type": "execute_result"
    }
   ],
   "source": [
    "df.head()"
   ]
  },
  {
   "cell_type": "code",
   "execution_count": 22,
   "metadata": {
    "id": "KJliN54ynKi1"
   },
   "outputs": [],
   "source": [
    "# Напишите шаблон промпта, указав инструкцию, вопрос и выходной индикатор\n",
    "\n",
    "prompt_template = \"\"\"\n",
    "Инструкция: Прочитай приведённый ниже текст и определи, сколько человек в нём упоминается. Ответь только числом, без дополнительных слов и символов.\n",
    "\n",
    "Context: {text_input}\n",
    "\n",
    "Question: Сколько человек упоминается в этом тексте?\n",
    "\n",
    "Answer: csv файл, содержащий три столбца - amount, text_id, text.\n",
    "\n",
    "(Столбец amount должен быть числового типа)\n",
    "\"\"\""
   ]
  },
  {
   "cell_type": "code",
   "execution_count": 28,
   "metadata": {
    "id": "uRgoFuWUycRu"
   },
   "outputs": [
    {
     "name": "stderr",
     "output_type": "stream",
     "text": [
      "100%|██████████| 100/100 [01:23<00:00,  1.19it/s]\n"
     ]
    }
   ],
   "source": [
    "amount_list = [] # Список, где будем хранить ответы модели\n",
    "\n",
    "for text_input in tqdm(df['text']):\n",
    "    prompt = prompt_template.format(text_input=text_input) # Добавляем сообщение в промпт\n",
    "    amount = llm.invoke(prompt).content # Ответ модели\n",
    "    amount_list.append(amount) # Добавляем ответ в список\n",
    "    # break # Для отладки. Уберите, когда убедитесь, что на одном примере работает"
   ]
  },
  {
   "cell_type": "code",
   "execution_count": 29,
   "metadata": {
    "id": "jNohtxOGnvwW"
   },
   "outputs": [
    {
     "data": {
      "text/plain": [
       "str"
      ]
     },
     "execution_count": 29,
     "metadata": {},
     "output_type": "execute_result"
    }
   ],
   "source": [
    "# перед записью ответа в датафрейм, проверьте какого типа ответы\n",
    "type(amount_list[0])"
   ]
  },
  {
   "cell_type": "code",
   "execution_count": 30,
   "metadata": {},
   "outputs": [
    {
     "data": {
      "text/plain": [
       "['1',\n",
       " '5',\n",
       " '7',\n",
       " '6',\n",
       " '6',\n",
       " '2',\n",
       " '1',\n",
       " '4',\n",
       " '4',\n",
       " '3',\n",
       " '4',\n",
       " '3',\n",
       " '5',\n",
       " '5',\n",
       " '6',\n",
       " '4',\n",
       " '2',\n",
       " '4',\n",
       " '2',\n",
       " '6',\n",
       " '3',\n",
       " '4',\n",
       " '2',\n",
       " '4',\n",
       " '3',\n",
       " '2',\n",
       " '6',\n",
       " '3',\n",
       " '4',\n",
       " '3',\n",
       " '6',\n",
       " '2',\n",
       " '4',\n",
       " '6',\n",
       " '8',\n",
       " '1',\n",
       " '3',\n",
       " '2',\n",
       " '2',\n",
       " '3',\n",
       " '4',\n",
       " '3',\n",
       " '3',\n",
       " '3',\n",
       " '6',\n",
       " '2',\n",
       " '3',\n",
       " '4',\n",
       " '4',\n",
       " '3',\n",
       " '3',\n",
       " '3',\n",
       " '4',\n",
       " '4',\n",
       " '4',\n",
       " '2',\n",
       " '2',\n",
       " '2',\n",
       " '2',\n",
       " '2',\n",
       " '3',\n",
       " '4',\n",
       " '11',\n",
       " '2',\n",
       " '3',\n",
       " '2',\n",
       " '2',\n",
       " '5',\n",
       " '3',\n",
       " '4',\n",
       " '3',\n",
       " '2',\n",
       " '3',\n",
       " '2',\n",
       " '2',\n",
       " '4',\n",
       " '5',\n",
       " '0',\n",
       " '3',\n",
       " '1',\n",
       " '4',\n",
       " '4',\n",
       " '4',\n",
       " '1',\n",
       " '2',\n",
       " '7',\n",
       " '5',\n",
       " '4',\n",
       " '3',\n",
       " '3',\n",
       " '7',\n",
       " '5',\n",
       " '5',\n",
       " '4',\n",
       " '12',\n",
       " '9',\n",
       " '1',\n",
       " '0',\n",
       " '2',\n",
       " '0']"
      ]
     },
     "execution_count": 30,
     "metadata": {},
     "output_type": "execute_result"
    }
   ],
   "source": [
    "amount_list"
   ]
  },
  {
   "cell_type": "code",
   "execution_count": 25,
   "metadata": {
    "id": "Dlpb_3n9oCcU"
   },
   "outputs": [],
   "source": [
    "# Чтобы система зачла ответы на Степике, надо перевести их в числа\n",
    "# Если не знаете как, спросите у ChatGPT)"
   ]
  },
  {
   "cell_type": "code",
   "execution_count": 31,
   "metadata": {
    "id": "QflBn5-l-_10"
   },
   "outputs": [],
   "source": [
    "df['amount'] = amount_list # Создаём новый столбец из ответов модели"
   ]
  },
  {
   "cell_type": "code",
   "execution_count": 36,
   "metadata": {},
   "outputs": [],
   "source": [
    "import polars as pl"
   ]
  },
  {
   "cell_type": "code",
   "execution_count": 38,
   "metadata": {},
   "outputs": [],
   "source": [
    "df = pl.from_pandas(df)"
   ]
  },
  {
   "cell_type": "code",
   "execution_count": 42,
   "metadata": {},
   "outputs": [],
   "source": [
    "df.with_columns(pl.col('amount').cast(pl.Int64)).write_csv('2_1_8_solution.csv')"
   ]
  },
  {
   "cell_type": "code",
   "execution_count": 41,
   "metadata": {
    "id": "Pm9AkgVynsqH"
   },
   "outputs": [
    {
     "data": {
      "text/html": [
       "<div><style>\n",
       ".dataframe > thead > tr,\n",
       ".dataframe > tbody > tr {\n",
       "  text-align: right;\n",
       "  white-space: pre-wrap;\n",
       "}\n",
       "</style>\n",
       "<small>shape: (100, 3)</small><table border=\"1\" class=\"dataframe\"><thead><tr><th>amount</th><th>text_id</th><th>text</th></tr><tr><td>str</td><td>i64</td><td>str</td></tr></thead><tbody><tr><td>&quot;1&quot;</td><td>14205200</td><td>&quot;Сниму жилье. 500-600 рублей су…</td></tr><tr><td>&quot;5&quot;</td><td>319097075</td><td>&quot;ищем жилье в центре недалеко о…</td></tr><tr><td>&quot;7&quot;</td><td>98881311</td><td>&quot;Ищем жилье на период с 18-28ию…</td></tr><tr><td>&quot;6&quot;</td><td>44587027</td><td>&quot;2 семьи по 3 человека (2 взрос…</td></tr><tr><td>&quot;6&quot;</td><td>352802829</td><td>&quot;Сниму недорогое жилье в лазаре…</td></tr><tr><td>&hellip;</td><td>&hellip;</td><td>&hellip;</td></tr><tr><td>&quot;9&quot;</td><td>233661411</td><td>&quot;Добрый день! Ищем жилье на 9 ч…</td></tr><tr><td>&quot;1&quot;</td><td>77792435</td><td>&quot;Здравствуйте. Ищем жильё в пер…</td></tr><tr><td>&quot;0&quot;</td><td>102311098</td><td>&quot;Добрый день! Ищем жилье в Лаза…</td></tr><tr><td>&quot;2&quot;</td><td>123993850</td><td>&quot;Ищем не дорогое жильё на начал…</td></tr><tr><td>&quot;0&quot;</td><td>54495881</td><td>&quot;ищем жилье с 8-20 августа с ба…</td></tr></tbody></table></div>"
      ],
      "text/plain": [
       "shape: (100, 3)\n",
       "┌────────┬───────────┬─────────────────────────────────┐\n",
       "│ amount ┆ text_id   ┆ text                            │\n",
       "│ ---    ┆ ---       ┆ ---                             │\n",
       "│ str    ┆ i64       ┆ str                             │\n",
       "╞════════╪═══════════╪═════════════════════════════════╡\n",
       "│ 1      ┆ 14205200  ┆ Сниму жилье. 500-600 рублей су… │\n",
       "│ 5      ┆ 319097075 ┆ ищем жилье в центре недалеко о… │\n",
       "│ 7      ┆ 98881311  ┆ Ищем жилье на период с 18-28ию… │\n",
       "│ 6      ┆ 44587027  ┆ 2 семьи по 3 человека (2 взрос… │\n",
       "│ 6      ┆ 352802829 ┆ Сниму недорогое жилье в лазаре… │\n",
       "│ …      ┆ …         ┆ …                               │\n",
       "│ 9      ┆ 233661411 ┆ Добрый день! Ищем жилье на 9 ч… │\n",
       "│ 1      ┆ 77792435  ┆ Здравствуйте. Ищем жильё в пер… │\n",
       "│ 0      ┆ 102311098 ┆ Добрый день! Ищем жилье в Лаза… │\n",
       "│ 2      ┆ 123993850 ┆ Ищем не дорогое жильё на начал… │\n",
       "│ 0      ┆ 54495881  ┆ ищем жилье с 8-20 августа с ба… │\n",
       "└────────┴───────────┴─────────────────────────────────┘"
      ]
     },
     "execution_count": 41,
     "metadata": {},
     "output_type": "execute_result"
    }
   ],
   "source": [
    "df"
   ]
  },
  {
   "cell_type": "code",
   "execution_count": null,
   "metadata": {
    "id": "Ki850BP0_H2A"
   },
   "outputs": [],
   "source": [
    "df.to_csv('2_1_8_solution.csv', index=False) # Сохраняем файл, отправляем на Stepik, получаем баллы :)"
   ]
  }
 ],
 "metadata": {
  "colab": {
   "collapsed_sections": [
    "CoofhZcDtp6R"
   ],
   "provenance": []
  },
  "kernelspec": {
   "display_name": "stepik-bQSCubr5-py3.12",
   "language": "python",
   "name": "python3"
  },
  "language_info": {
   "codemirror_mode": {
    "name": "ipython",
    "version": 3
   },
   "file_extension": ".py",
   "mimetype": "text/x-python",
   "name": "python",
   "nbconvert_exporter": "python",
   "pygments_lexer": "ipython3",
   "version": "3.12.3"
  }
 },
 "nbformat": 4,
 "nbformat_minor": 0
}
