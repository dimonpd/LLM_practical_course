{
 "cells": [
  {
   "cell_type": "markdown",
   "id": "1aba1183-53a1-4aa7-b1c3-6a6687e050b9",
   "metadata": {},
   "source": [
    "# <center id=\"p1\"><h1> ⛓ `CHAINS` 🔗 - разбираемся с базовым элементом фрэймворка!</h1></center>"
   ]
  },
  {
   "cell_type": "markdown",
   "id": "9fee959e",
   "metadata": {},
   "source": [
    "### Оглавление ноутбука\n",
    "<img src='https://i.ytimg.com/vi/W3AoeMrg27o/maxresdefault.jpg' align=\"right\" width=\"600\" height=\"650\" />\n",
    "<br>\n",
    "\n",
    "<p><font size=\"3\" face=\"Arial\" font-size=\"large\"><ul type=\"square\">\n",
    "    \n",
    "<li><a href=\"#p1\">🚀 Введение </a></li>\n",
    "<li><a href=\"#p2\">💊 Generic Chains </a></li><ul type=\"square\">\n",
    "<li><a href=\"#p3\">LLMChain 🔗 </a>\n",
    "<li><a href=\"#p4\">TransformChain 🤖 </a>\n",
    "<li><a href=\"#p5\">SequentialChain 🔗➕⛓</a></ul>\n",
    "<li><a href=\"#plcel\">LCEL - LangChain Expression Language 🤪🀄️</a>\n",
    "<li><a href=\"#p6\">Router Chain 🈯️ ➡️ 🇯🇵</a>\n",
    "<li><a href=\"#p7\">🛠 Utility Chains 🪝 </a></li>\n",
    "<li><a href=\"#p8\">🧸 Выводы и заключения ✅ </a></li>\n",
    "    \n",
    "</ul></font></p>"
   ]
  },
  {
   "cell_type": "markdown",
   "id": "56448a2d-8dee-48b5-b736-add4f6ccd474",
   "metadata": {},
   "source": [
    "<div class=\"alert alert-info\">\n",
    "    \n",
    "Как вы могли догадаться из названия, **цепочки (Chains)** - это один из фундаментальных строительных блоков фрэймворка `LangChain`. Они представляют собой просто цепочку компонентов, которые будут выполнены в определённом порядке. <br>\n",
    "\n",
    "*Официальным определением цепочек является следующее:* <br>\n",
    "Цепочка состоит из звеньев, которые могут быть как примитивами, так и другими цепочками. Примитивами могут быть либо промпты, LLM, utils, либо другие цепочки. Таким образом, цепочка — это, по сути, конвейер, который обрабатывает входные данные, используя определенную комбинацию примитивов. Интуитивно это можно рассматривать как «шаг», который выполняет определенный набор операций над входными данными и возвращает результат. Это может быть что угодно: от прохождения через LLM на основе промпта до применения Python-функции к тексту."
   ]
  },
  {
   "cell_type": "markdown",
   "id": "d6a31bbb-af80-4b0b-9baa-dd3f714d85e2",
   "metadata": {},
   "source": [
    "Цепочки делятся на несколько основных типов: \n",
    "* `Generic chains` - общего назначения\n",
    "* `Utility chains` - выполняющие конкретную функцию (например, вычислять математические выражения)\n",
    "* `Combine Documents chains` - цепочки для работы с документами <br>\n",
    "и другие.\n",
    "\n",
    "В этом ноутбуке остановимся на первых двух типах, третий специфический тип мы рассмотрим позднее."
   ]
  },
  {
   "cell_type": "markdown",
   "id": "75797bf8-2c2b-40fb-bcbd-4bf840c2e837",
   "metadata": {
    "tags": []
   },
   "source": [
    "# <center id=\"p2\"> 💊 Generic Chains - цепочки общего назначения </center> "
   ]
  },
  {
   "cell_type": "markdown",
   "id": "e233b91b-aba1-42b2-ac3d-9f4702806965",
   "metadata": {},
   "source": [
    "<div class=\"alert alert-info\">\n",
    "    \n",
    "В `LangChain` есть несколько основных типов `Generic Chains`:\n",
    "* `LLM Chain` - базовый тип.\n",
    "* `Transform Chain` - позволяет преобразовывать текст и применять к нему различные функции.\n",
    "* `Sequentional Chain` - позволяет собирать последовательности из нескольких цепочек.\n",
    "* `Router Chain` - по запросу решает куда, его перенаправить.\n",
    "\n",
    "*Попробуем рассмотреть их всех на одном примере* 🤪"
   ]
  },
  {
   "cell_type": "code",
   "execution_count": 1,
   "id": "0a0dc993-6239-4b27-99b4-b752fb708538",
   "metadata": {
    "tags": []
   },
   "outputs": [],
   "source": [
    "import os\n",
    "from getpass import getpass\n",
    "import warnings\n",
    "warnings.filterwarnings('ignore')"
   ]
  },
  {
   "cell_type": "code",
   "execution_count": 1,
   "id": "9febfbad-5120-488c-ac89-2ea5d8c9339a",
   "metadata": {
    "tags": []
   },
   "outputs": [],
   "source": [
    "!pip install --upgrade langchain langchain-openai openai tiktoken numexpr -q"
   ]
  },
  {
   "cell_type": "code",
   "execution_count": 2,
   "id": "78277539-0f1e-44b6-a745-c23e7ec0f2e5",
   "metadata": {
    "tags": []
   },
   "outputs": [],
   "source": [
    "# Для работы в колабе загрузите наш скрипт для использования ChatGPT на сервере курса!\n",
    "!wget https://raw.githubusercontent.com/a-milenkin/LLM_practical_course/main/notebooks/utils.py"
   ]
  },
  {
   "cell_type": "code",
   "execution_count": 3,
   "id": "ccd3083b-a534-4f4c-a008-d4eb822210ab",
   "metadata": {
    "tags": []
   },
   "outputs": [],
   "source": [
    "# # Если используете ключ от OpenAI, запустите эту ячейку\n",
    "# from langchain_openai import ChatOpenAI\n",
    "\n",
    "# # os.environ['OPENAI_API_KEY'] = \"Введите ваш OpenAI API ключ\"\n",
    "# os.environ['OPENAI_API_KEY'] = getpass(prompt='Введите ваш OpenAI API ключ')\n",
    "\n",
    "# # инициализируем языковую модель\n",
    "# llm = ChatOpenAI(temperature=0.0)"
   ]
  },
  {
   "cell_type": "code",
   "execution_count": 2,
   "id": "bd76f574-b8e5-4820-96a4-972fc5ac25ad",
   "metadata": {
    "tags": []
   },
   "outputs": [],
   "source": [
    "# Если используете ключ из курса, запустите эту ячейку\n",
    "from utils import ChatOpenAI\n",
    "\n",
    "\n",
    "#course_api_key= \"Введите ваш OpenAI API ключ\"\n",
    "course_api_key = getpass(prompt='Введите ваш  API-ключ курса')\n",
    "\n",
    "# инициализируем языковую модель\n",
    "llm = ChatOpenAI(temperature=0.0, course_api_key=course_api_key)"
   ]
  },
  {
   "cell_type": "markdown",
   "id": "cdf24f38-953f-43f7-9796-ebe092e21efe",
   "metadata": {},
   "source": [
    "## <center id=\"p3\"> 🔗 `LLMChain` - базовая цепочка для общения с LLM.\n",
    "  \n",
    "\n",
    "\n",
    "Самой простой из этих цепочек является `LLMChain`. С ней мы уже знакомились в предыдущих уроках. "
   ]
  },
  {
   "cell_type": "markdown",
   "id": "980bda3e-1824-4302-a35c-76a56e9b29da",
   "metadata": {},
   "source": [
    "<div class=\"alert alert-info\">\n",
    "Создадим цепочку для переписывания текста в различных стилях."
   ]
  },
  {
   "cell_type": "code",
   "execution_count": 7,
   "id": "e236f8ed",
   "metadata": {
    "tags": []
   },
   "outputs": [],
   "source": [
    "from langchain.prompts import PromptTemplate\n",
    "from langchain.chains import LLMChain\n",
    "from langchain.schema.output_parser import StrOutputParser\n",
    "\n",
    "\n",
    "# создадим шаблон и промпт\n",
    "template = '''Перепиши текcт ниже в заданном стиле.\n",
    "Текст:{output_text}\n",
    "\n",
    "Стиль: {style}.\n",
    "\n",
    "Результат:'''\n",
    "\n",
    "prompt = PromptTemplate(input_variables=['output_text', 'style'], template=template) \n",
    "\n",
    "# создаём цепочку\n",
    "style_changer_chain = prompt | llm | StrOutputParser()"
   ]
  },
  {
   "cell_type": "code",
   "execution_count": 8,
   "id": "f8ff4518",
   "metadata": {
    "tags": []
   },
   "outputs": [
    {
     "data": {
      "text/plain": [
       "'Доброго времени суток, уважаемые дамы и господа! \\n\\nС превеликим удовольствием приветствуем вас на нашем изысканном курсе, посвящённом искусству тюнинга языковых моделей! Здесь, в этом благородном собрании умов, мы стремимся обучить вас искусству возвышения моделей до небывалых высот, дабы раскрыть их потенциал в полном объёме. \\n\\nМы поделимся с вами мудростью самых современных методов обучения и настройки языковых моделей, а также обучим вас практическим навыкам, которые помогут вам с лёгкостью справляться с самыми сложными задачами в области обработки естественного языка. \\n\\nПусть ваше стремление к знаниям будет столь же безграничным, как и наше желание делиться ими!'"
      ]
     },
     "execution_count": 8,
     "metadata": {},
     "output_type": "execute_result"
    }
   ],
   "source": [
    "text = '''Приветствуем на курсе по тюнингу языковых моделей! \n",
    "Тут мы учим, как сделать модельки еще круче и раскрыть их потенциал до максимума. \n",
    "Мы дадим вам советы по самым свежим методам обучения и настройки языковых моделей, \n",
    "а также научим практическим навыкам для решения сложных задач в обработке естественного языка.'''\n",
    "style = 'Роман 18 века'\n",
    "\n",
    "style_changer_chain.invoke({'output_text': text, 'style': style})"
   ]
  },
  {
   "cell_type": "markdown",
   "id": "c0e32fc4-fe9c-4273-99fd-cb0496844952",
   "metadata": {},
   "source": [
    "<div class=\"alert alert-success\">\n",
    "    \n",
    "Видим, что цепочка с моделью неплохо справилась с задачей."
   ]
  },
  {
   "cell_type": "markdown",
   "id": "aa3ce9a8",
   "metadata": {},
   "source": [
    "## <center id=\"p4\"> 🤖 `TransformChain`  - измени и передай другому"
   ]
  },
  {
   "cell_type": "markdown",
   "id": "384023ea-b558-44f6-a110-c6113d53ef12",
   "metadata": {},
   "source": [
    "<div class=\"alert alert-info\">\n",
    "    \n",
    "Теперь давайте представим, что мы получаем откуда-то сырой необработанный текст, который содержит пустые строки и много ненужных пробелов. Как вы помните, нам приходится считать количество израсходованных токенов, и не хочется их дополнительно тратить на ненужные лишние символы. К тому же такой текст выглядит неопрятно. <br>\n",
    "Давайте создадим цепочку, которая будет очищать поданный в неё текст от ненужных символов. <br>\n",
    "В этом нам поможет `Transform Chain`.\n"
   ]
  },
  {
   "cell_type": "markdown",
   "id": "913626f1-54ac-43af-bb73-d1fb98814736",
   "metadata": {},
   "source": [
    "Для начала создадим функцию, которая будет убирать лишние пробелы и строки в исходном тексте."
   ]
  },
  {
   "cell_type": "code",
   "execution_count": 9,
   "id": "f1a569d9-6325-4420-aba6-cfaefba7c920",
   "metadata": {
    "tags": []
   },
   "outputs": [],
   "source": [
    "import re\n",
    "\n",
    "def del_spaces(inputs: dict) -> dict:\n",
    "    text = inputs[\"text\"]\n",
    "    \n",
    "    # заменяем пустые строки и дополнительные пробелы на один, используя регулярные выражения\n",
    "    text = re.sub(r'(\\r\\n|\\r|\\n){2,}', r'\\n', text)\n",
    "    text = re.sub(r'[ \\t]+', ' ', text)\n",
    "\n",
    "    return {\"output_text\": text}"
   ]
  },
  {
   "cell_type": "code",
   "execution_count": 10,
   "id": "bce9d951-5196-49e7-b831-b115c43085be",
   "metadata": {
    "tags": []
   },
   "outputs": [],
   "source": [
    "# создаём преобразующую цепочку\n",
    "from langchain.chains import TransformChain\n",
    "\n",
    "text_clean_chain = TransformChain(input_variables=[\"text\"], \n",
    "                                  output_variables=[\"output_text\"], \n",
    "                                  transform=del_spaces)"
   ]
  },
  {
   "cell_type": "markdown",
   "id": "d8bc9026-4dfa-4dc8-bf50-90858d74b0d8",
   "metadata": {},
   "source": [
    "<div class=\"alert alert-info\">\n",
    "    \n",
    "**Обратите внимание**, что при создании этой цепочки, мы не подаём llm как аргумент. Можно подумать, что отсутствие LLM делает такую цепочку более слабой по сравнению с другими, но далее мы увидим, что комбинируя её с другими цепочками, можно добиться хороших результатов и сэкономить токены.<br>\n",
    "Посмотрим как она работает:"
   ]
  },
  {
   "cell_type": "code",
   "execution_count": 11,
   "id": "9086596d-5ba4-4615-aa6d-dc19560bfb33",
   "metadata": {
    "tags": []
   },
   "outputs": [],
   "source": [
    "# Возьмём наш предыдущий текст и \"загрязним его\"\n",
    "dirty_text = '''Приветствуем на курсе по        тюнингу языковых        моделей! \n",
    "\n",
    "Тут мы учим, как сделать модельки еще круче и раскрыть их потенциал до максимума. \n",
    "Мы дадим вам советы по   самым свежим методам  обучения и настройки языковых                    моделей,\n",
    "\n",
    "а также научим практическим навыкам для                     решения сложных задач в обработке естественного языка.'''"
   ]
  },
  {
   "cell_type": "code",
   "execution_count": 12,
   "id": "ee7b5fef-927f-4a3e-8736-676e162654e9",
   "metadata": {
    "tags": []
   },
   "outputs": [
    {
     "data": {
      "text/plain": [
       "'Приветствуем на курсе по тюнингу языковых моделей! \\nТут мы учим, как сделать модельки еще круче и раскрыть их потенциал до максимума. \\nМы дадим вам советы по самым свежим методам обучения и настройки языковых моделей,\\nа также научим практическим навыкам для решения сложных задач в обработке естественного языка.'"
      ]
     },
     "execution_count": 12,
     "metadata": {},
     "output_type": "execute_result"
    }
   ],
   "source": [
    "# Запустим, и видим, что цепочка задачу выполнила\n",
    "text_clean_chain.invoke(dirty_text)['output_text']"
   ]
  },
  {
   "cell_type": "markdown",
   "id": "1ce23e80-2a70-4e70-8710-bfc6a6e1fdcb",
   "metadata": {},
   "source": [
    "<div class=\"alert alert-info\">\n",
    "    \n",
    "Как вы уже наверное догадались (по названиям входных и выходных переменных), мы собираемся подать выход из `Transform Chain` в `LLMChain`. Чтобы их объединить и использовать как одну интегрированную цепочку, воспользуемся `Sequential Chain`."
   ]
  },
  {
   "cell_type": "markdown",
   "id": "0ed77050-490e-402c-8a6e-deeb9980626c",
   "metadata": {
    "tags": []
   },
   "source": [
    "## <center id=\"p5\">  🔗➕⛓ `SequentialChain`  - последовательные цепочки\n",
    "\n",
    "<div class=\"alert alert-info\">\n",
    "    \n",
    "<img src='../images/seq_chain.jpeg' align=\"right\" width=\"600\" height=\"600\" >    \n",
    "    \n",
    "Два основных типа `Sequential Chain`:\n",
    "* `SimpleSequentialChain`: простейшая форма последовательной цепочки, где каждый шаг имеет один вход/выход, а выход одного шага является входом следующего.\n",
    "* `SequentialChain`: более общая форма последовательной цепочки, допускающая несколько входов/выходов.\n",
    "\n",
    "Воспользуемся вторым вариантом:"
   ]
  },
  {
   "cell_type": "code",
   "execution_count": 17,
   "id": "46eea19c",
   "metadata": {
    "tags": []
   },
   "outputs": [],
   "source": [
    "from langchain.chains import SequentialChain\n",
    "from langchain.schema.runnable import RunnablePassthrough"
   ]
  },
  {
   "cell_type": "code",
   "execution_count": 18,
   "id": "0b3a1f50",
   "metadata": {},
   "outputs": [
    {
     "name": "stdout",
     "output_type": "stream",
     "text": [
      "Йо, привет, на курсе мы тут,  \n",
      "Тюнинг языковых моделей — это наш путь!  \n",
      "Как сделать их круче, раскрыть весь потенциал,  \n",
      "Мы дадим тебе советы, это наш финальный зал!  \n",
      "\n",
      "Свежие методы, обучение в деле,  \n",
      "Настройка моделей — это наше умение.  \n",
      "Практические навыки, решаем задачи,  \n",
      "В обработке языка мы — настоящие мастера, не иначе!  \n",
      "\n",
      "Так что готовься, брат, к новым вершинам,  \n",
      "С нами ты станешь профи, это не просто мимолетно!  \n",
      "Тюнинг моделей — это наш стиль,  \n",
      "Вместе мы сделаем их мощней, вот такой наш крик!\n"
     ]
    }
   ],
   "source": [
    "from operator import itemgetter\n",
    "\n",
    "# Немного изменим функцию очистки, чтобы она сохраняла стиль\n",
    "def del_spaces(inputs: dict) -> dict:\n",
    "    text = inputs[\"text\"]\n",
    "    style = inputs[\"style\"]\n",
    "    \n",
    "    # заменяем пустые строки и дополнительные пробелы на один\n",
    "    text = re.sub(r'(\\r\\n|\\r|\\n){2,}', r'\\n', text)\n",
    "    text = re.sub(r'[ \\t]+', ' ', text)\n",
    "\n",
    "    return {\"output_text\": text, \"style\": style}\n",
    "\n",
    "# Создаем LCEL-совместимую последовательность\n",
    "sequential_chain = (\n",
    "    RunnablePassthrough.assign(\n",
    "        output_text=lambda x: del_spaces({\"text\": x[\"text\"], \"style\": x[\"style\"]})[\"output_text\"],\n",
    "        style=itemgetter(\"style\")\n",
    "    )\n",
    "    | prompt\n",
    "    | llm\n",
    "    | StrOutputParser()\n",
    ")\n",
    "\n",
    "# Теперь вызов будет работать\n",
    "style = 'Rap'\n",
    "result = sequential_chain.invoke({'text': dirty_text, 'style': style})\n",
    "print(result)"
   ]
  },
  {
   "cell_type": "code",
   "execution_count": 19,
   "id": "d6bb331c-8ee3-465d-a793-0632db4d843b",
   "metadata": {
    "tags": []
   },
   "outputs": [
    {
     "name": "stdout",
     "output_type": "stream",
     "text": [
      "Йо, привет, на курсе мы тут,  \n",
      "Тюнинг языковых моделей — это наш путь.  \n",
      "Как сделать их круче, раскрыть весь потенциал,  \n",
      "Мы дадим тебе советы, это наш финальный зал.  \n",
      "\n",
      "Свежие методы, обучение в деле,  \n",
      "Настройка моделей — это наше умение.  \n",
      "Практические навыки, решаем задачи,  \n",
      "В обработке языка — мы тут, не иначе!  \n",
      "\n",
      "Так что готовься, брат, к новым высотам,  \n",
      "С нами ты сможешь, не будет заботом.  \n",
      "Тюнинг, настройка — это наш стиль,  \n",
      "Научим тебя, как быть в этом сильным!\n"
     ]
    }
   ],
   "source": [
    "style = 'Rap'\n",
    "print(sequential_chain.invoke({'text': dirty_text, 'style': style}))"
   ]
  },
  {
   "cell_type": "markdown",
   "id": "fd3fa4a0-ac35-4d93-a834-ef78f4b6cf1a",
   "metadata": {},
   "source": [
    "<div class=\"alert alert-block alert-danger\">\n",
    "    \n",
    "# <center> А теперь забываем всё, что увидели выше! 🤯\n",
    "    \n",
    "Разработчики `LangChain` выкатили новую универсальную удобную концепцию, встречайте:"
   ]
  },
  {
   "cell_type": "markdown",
   "id": "f1666836-165d-4897-9540-891ea730a2b8",
   "metadata": {},
   "source": [
    "# <center id=\"plcel\"> **`LCEL` - LangChain Expression Language** 🤪🀄️\n",
    "\n",
    "Что он позволяет делать?:\n",
    "* декларативный способ составлять цепочки\n",
    "* стандартизирует интерфейсы\n",
    "* проще персонализировать различные части цепочки\n",
    "* позволяет легко заменять компоненты\n",
    "* поддержка потоковой, пакетной и асинхронной обработки «из коробки»\n",
    "* промпты теперь стали более заметными и их можно легко изменить в соответствии с конкретными юзкейсами\n",
    "    \n",
    "Хватит теории, посмотрим на эту красоту в деле:"
   ]
  },
  {
   "cell_type": "markdown",
   "id": "f4e2cf87-2960-44d6-a767-e51f33637379",
   "metadata": {},
   "source": [
    "<div class=\"alert alert-success\">\n",
    "\n",
    "Давайте посмотрим как можно переписать цепочку из первого примера:"
   ]
  },
  {
   "cell_type": "code",
   "execution_count": 20,
   "id": "730e749f-2016-46da-a5e6-6728ba6c8e65",
   "metadata": {
    "tags": []
   },
   "outputs": [],
   "source": [
    "# создадим шаблон и промпт\n",
    "template = '''Перепиши этот текcт в заданном стиле: {output_text}\n",
    "Стиль: {style}.\n",
    "Результат:'''\n",
    "\n",
    "prompt = PromptTemplate(input_variables=['output_text', 'style'], template=template)\n",
    "\n",
    "style_changer_chain = prompt | llm # И ВСЁ!"
   ]
  },
  {
   "cell_type": "code",
   "execution_count": 21,
   "id": "58420559-2a0a-45ca-b685-d286decc51e6",
   "metadata": {
    "tags": []
   },
   "outputs": [
    {
     "name": "stdout",
     "output_type": "stream",
     "text": [
      "content='Доброго времени суток, уважаемые дамы и господа! \\n\\nС радостью приветствуем вас на нашем изысканном курсе, посвящённом искусству тюнинга языковых моделей! Здесь, в этом священном храме знаний, мы стремимся раскрыть тайны, которые позволят нашим моделям достичь небывалых высот и реализовать свой потенциал в полном объёме. \\n\\nМы поделимся с вами мудростью о самых современных методах обучения и тонкостях настройки языковых моделей, а также обучим вас практическим навыкам, которые помогут вам с лёгкостью справляться с самыми сложными задачами в области обработки естественного языка. \\n\\nПусть ваше путешествие в мир языковых моделей будет полным открытий и вдохновения!' additional_kwargs={'refusal': None} response_metadata={'token_usage': {'completion_tokens': 170, 'prompt_tokens': 113, 'total_tokens': 283, 'completion_tokens_details': {'accepted_prediction_tokens': 0, 'audio_tokens': 0, 'reasoning_tokens': 0, 'rejected_prediction_tokens': 0}, 'prompt_tokens_details': {'audio_tokens': 0, 'cached_tokens': 0}}, 'model_name': 'gpt-4o-mini-2024-07-18', 'system_fingerprint': 'fp_0392822090', 'id': 'chatcmpl-BVKn1UyEbV3WbwQOO2aQGy9UWbEX4', 'finish_reason': 'stop', 'logprobs': None} id='run-1ecb0f3b-265a-4e8b-a855-aa347040f674-0' usage_metadata={'input_tokens': 113, 'output_tokens': 170, 'total_tokens': 283, 'input_token_details': {'audio': 0, 'cache_read': 0}, 'output_token_details': {'audio': 0, 'reasoning': 0}}\n"
     ]
    }
   ],
   "source": [
    "text = '''Приветствуем на курсе по тюнингу языковых моделей! \n",
    "Тут мы учим, как сделать модельки еще круче и раскрыть их потенциал до максимума. \n",
    "Мы дадим вам советы по самым свежим методам обучения и настройки языковых моделей, \n",
    "а также научим практическим навыкам для решения сложных задач в обработке естественного языка.'''\n",
    "style = 'Роман 18 века'\n",
    "\n",
    "answer = style_changer_chain.invoke({'output_text': text, 'style': style})\n",
    "print(answer)"
   ]
  },
  {
   "cell_type": "code",
   "execution_count": 22,
   "id": "d650dcf7-dc77-40e6-971a-8a969258bbac",
   "metadata": {
    "tags": []
   },
   "outputs": [
    {
     "data": {
      "text/plain": [
       "'Доброго времени суток, уважаемые дамы и господа! \\n\\nС радостью приветствуем вас на нашем изысканном курсе, посвящённом искусству тюнинга языковых моделей! Здесь, в этом священном храме знаний, мы стремимся раскрыть тайны, которые позволят нашим моделям достичь небывалых высот и реализовать свой потенциал в полном объёме. \\n\\nМы поделимся с вами мудростью о самых современных методах обучения и тонкостях настройки языковых моделей, а также обучим вас практическим навыкам, которые помогут вам с лёгкостью справляться с самыми сложными задачами в области обработки естественного языка. \\n\\nПусть ваше путешествие в мир языковых моделей будет полным открытий и вдохновения!'"
      ]
     },
     "execution_count": 22,
     "metadata": {},
     "output_type": "execute_result"
    }
   ],
   "source": [
    "answer.content"
   ]
  },
  {
   "cell_type": "markdown",
   "id": "68efd608-9262-45b0-9b2c-5e53342a3597",
   "metadata": {},
   "source": [
    " <div class=\"alert alert-info\">\n",
    "\n",
    " Стандартный интерфейс имеет 3 метода:\n",
    " * `stream` - позволяет получать ответ модели в формате стриминга (можно увидеть,как модель генерирует ответ токен за токеном). Возвращает ответ модели в виде итерируемого объекта\n",
    " * `invoke` - обрабатывает одиночный запрос к модели\n",
    " * `batch` - обрабатывает список запросов к модели"
   ]
  },
  {
   "cell_type": "code",
   "execution_count": 23,
   "id": "c2c81966-bef3-4d5a-9acc-1c033476e922",
   "metadata": {
    "tags": []
   },
   "outputs": [
    {
     "data": {
      "text/plain": [
       "[AIMessage(content='Доброго времени суток, уважаемые участники нашего курса, посвященного искусству усовершенствования языковых моделей! Здесь, в этом священном пространстве знаний, мы стремимся раскрыть тайны, как сделать наши модели еще более изысканными и довести их потенциал до небывалых высот. Мы поделимся с вами мудростью о самых современных методах обучения и настройки этих чудесных творений, а также обучим вас практическим навыкам, которые помогут вам справиться с самыми сложными задачами в области обработки естественного языка. Пусть ваше стремление к познанию будет безграничным, а успехи — неоспоримыми!', additional_kwargs={'refusal': None}, response_metadata={'token_usage': {'completion_tokens': 150, 'prompt_tokens': 113, 'total_tokens': 263, 'completion_tokens_details': {'accepted_prediction_tokens': 0, 'audio_tokens': 0, 'reasoning_tokens': 0, 'rejected_prediction_tokens': 0}, 'prompt_tokens_details': {'audio_tokens': 0, 'cached_tokens': 0}}, 'model_name': 'gpt-4o-mini-2024-07-18', 'system_fingerprint': 'fp_dbaca60df0', 'id': 'chatcmpl-BVKnl32lvt9h4xMq6eeriXtJFUhL1', 'finish_reason': 'stop', 'logprobs': None}, id='run-b98b20f9-0f5d-4747-bc56-3655dc7b903a-0', usage_metadata={'input_tokens': 113, 'output_tokens': 150, 'total_tokens': 263, 'input_token_details': {'audio': 0, 'cache_read': 0}, 'output_token_details': {'audio': 0, 'reasoning': 0}}),\n",
       " AIMessage(content='Вас приветствуем, друзья, на курсе волшебном,  \\nГде тюнинг языковых моделей — дело важное,  \\nМы раскроем тайны, как сделать их лучше,  \\nИ в потенциале их вознесем на высоты.\\n\\nСоветы свежие, как утренний ветер,  \\nМетоды обучения — наш светлый завет,  \\nНастройка и практика — ключи к успеху,  \\nВ решении задач мы откроем вам двери.\\n\\nВ мире слов и смыслов, где мысли летят,  \\nМы вместе с вами пройдем этот путь,  \\nСложные задачи, как звезды в ночи,  \\nСмело решим, ведь мы — в этом суть.\\n\\nТак присоединяйтесь, не упустите шанс,  \\nВместе мы сделаем модели в танце,  \\nВолшебство языка — в ваших руках,  \\nНа курсе нашем — ждёт вас успех!', additional_kwargs={'refusal': None}, response_metadata={'token_usage': {'completion_tokens': 201, 'prompt_tokens': 111, 'total_tokens': 312, 'completion_tokens_details': {'accepted_prediction_tokens': 0, 'audio_tokens': 0, 'reasoning_tokens': 0, 'rejected_prediction_tokens': 0}, 'prompt_tokens_details': {'audio_tokens': 0, 'cached_tokens': 0}}, 'model_name': 'gpt-4o-mini-2024-07-18', 'system_fingerprint': 'fp_dbaca60df0', 'id': 'chatcmpl-BVKnl8KShfGtWH9GlkKcIxlYdo0h1', 'finish_reason': 'stop', 'logprobs': None}, id='run-33677b2e-2ce0-43b8-9d70-cf8a8b4aa73d-0', usage_metadata={'input_tokens': 111, 'output_tokens': 201, 'total_tokens': 312, 'input_token_details': {'audio': 0, 'cache_read': 0}, 'output_token_details': {'audio': 0, 'reasoning': 0}})]"
      ]
     },
     "execution_count": 23,
     "metadata": {},
     "output_type": "execute_result"
    }
   ],
   "source": [
    "style_changer_chain.batch([{'output_text': text, 'style': style}, {'output_text': text, 'style': 'поэма'}])"
   ]
  },
  {
   "cell_type": "code",
   "execution_count": 24,
   "id": "7c4928d8-b1fd-4b7f-bd0f-2732260ae6f6",
   "metadata": {
    "tags": []
   },
   "outputs": [
    {
     "data": {
      "text/plain": [
       "<generator object RunnableSequence.stream at 0x7dbd6f739d50>"
      ]
     },
     "execution_count": 24,
     "metadata": {},
     "output_type": "execute_result"
    }
   ],
   "source": [
    "# метод stream возвращает генератор\n",
    "style_changer_chain.stream({'output_text': text, 'style': 'поэма'})"
   ]
  },
  {
   "cell_type": "code",
   "execution_count": 25,
   "id": "ca10d3c5-a54c-4845-b671-37b783985694",
   "metadata": {
    "scrolled": true,
    "tags": []
   },
   "outputs": [
    {
     "name": "stdout",
     "output_type": "stream",
     "text": [
      "\n",
      "В\n",
      "ас\n",
      " привет\n",
      "ству\n",
      "ем\n",
      ",\n",
      " друзья\n",
      ",\n",
      " на\n",
      " кур\n",
      "се\n",
      " вол\n",
      "шеб\n",
      "ном\n",
      ",\n",
      "  \n",
      "\n",
      "Г\n",
      "де\n",
      " т\n",
      "ю\n",
      "нинг\n",
      " язы\n",
      "ковых\n",
      " моделей\n",
      " —\n",
      " дело\n",
      " важ\n",
      "ное\n",
      ",\n",
      "  \n",
      "\n",
      "Мы\n",
      " раск\n",
      "ро\n",
      "ем\n",
      " тай\n",
      "ны\n",
      ",\n",
      " как\n",
      " сделать\n",
      " их\n",
      " лучше\n",
      ",\n",
      "  \n",
      "\n",
      "И\n",
      " в\n",
      " потен\n",
      "циал\n",
      "е\n",
      " их\n",
      " воз\n",
      "нес\n",
      "ем\n",
      " на\n",
      " выс\n",
      "оты\n",
      ".\n",
      "\n",
      "\n",
      "Сов\n",
      "еты\n",
      " свеж\n",
      "ие\n",
      ",\n",
      " как\n",
      " ут\n",
      "рен\n",
      "ний\n",
      " ветер\n",
      ",\n",
      "  \n",
      "\n",
      "Мет\n",
      "оды\n",
      " обучения\n",
      " —\n",
      " наш\n",
      " свет\n",
      "лый\n",
      " за\n",
      "вет\n",
      ",\n",
      "  \n",
      "\n",
      "Наст\n",
      "рой\n",
      "ка\n",
      " и\n",
      " практика\n",
      " —\n",
      " ключ\n",
      "и\n",
      " к\n",
      " успех\n",
      "у\n",
      ",\n",
      "  \n",
      "\n",
      "В\n",
      " реш\n",
      "ении\n",
      " задач\n",
      " мы\n",
      " отк\n",
      "ро\n",
      "ем\n",
      " вам\n",
      " двери\n",
      ".\n",
      "\n",
      "\n",
      "Об\n",
      "работка\n",
      " языка\n",
      " —\n",
      " искус\n",
      "ство\n",
      " и\n",
      " на\n",
      "ука\n",
      ",\n",
      "  \n",
      "\n",
      "С\n",
      "лож\n",
      "ные\n",
      " задачи\n",
      " —\n",
      " не\n",
      " страш\n",
      "ны\n",
      " нам\n",
      ",\n",
      "  \n",
      "\n",
      "С\n",
      " нами\n",
      " вы\n",
      " стан\n",
      "ете\n",
      " маст\n",
      "ерами\n",
      ",\n",
      "  \n",
      "\n",
      "В\n",
      " мире\n",
      " слов\n",
      " и\n",
      " смысл\n",
      "ов\n",
      ",\n",
      " где\n",
      " нет\n",
      " пр\n",
      "ег\n",
      "рад\n",
      ".\n",
      "\n",
      "\n",
      "Так\n",
      " вперед\n",
      ",\n",
      " к\n",
      " знания\n",
      "м\n",
      ",\n",
      " к\n",
      " новым\n",
      " верш\n",
      "ина\n",
      "м\n",
      ",\n",
      "  \n",
      "\n",
      "В\n",
      "мест\n",
      "е\n",
      " мы\n",
      " см\n",
      "ож\n",
      "ем\n",
      " дост\n",
      "ичь\n",
      " невозмож\n",
      "ного\n",
      ",\n",
      "  \n",
      "\n",
      "На\n",
      " кур\n",
      "се\n",
      " нашем\n",
      ",\n",
      " где\n",
      " меч\n",
      "ты\n",
      " с\n",
      "бы\n",
      "ваются\n",
      ",\n",
      "  \n",
      "\n",
      "Я\n",
      "зы\n",
      "ковые\n",
      " модели\n",
      " —\n",
      " в\n",
      " ваших\n",
      " руках\n",
      " рас\n",
      "цвет\n",
      "ают\n",
      "!\n"
     ]
    }
   ],
   "source": [
    "# Так можно просмотреть генерацию ответа токен за токеном\n",
    "for s in style_changer_chain.stream({'output_text': text, 'style': 'поэма'}):\n",
    "    print(s.content)"
   ]
  },
  {
   "cell_type": "markdown",
   "id": "d5b867fd-9335-4834-916c-0dbe282d8c21",
   "metadata": {},
   "source": [
    " <div class=\"alert alert-info\">\n",
    "\n",
    "Давайте теперь вспомним пример из 2-го модуля, где мы долго прикручивали `Output Parser`. Теперь использовать парсеры стало гораздо удобнее и требуется писать меньше кода! "
   ]
  },
  {
   "cell_type": "code",
   "execution_count": 26,
   "id": "38cf10f0-ad66-4ee4-8891-f5bba634e899",
   "metadata": {
    "tags": []
   },
   "outputs": [
    {
     "name": "stdout",
     "output_type": "stream",
     "text": [
      "Доброго времени суток, уважаемые дамы и господа! \n",
      "\n",
      "С превеликим удовольствием приветствуем вас на нашем изысканном курсе, посвящённом искусству тюнинга языковых моделей! Здесь, в этом священном храме знаний, мы стремимся раскрыть тайны, как сделать наши модели ещё более великолепными и довести их потенциал до небывалых высот. \n",
      "\n",
      "Мы с радостью поделимся с вами мудростью о самых современных методах обучения и тонкостях настройки языковых моделей, а также обучим вас практическим навыкам, которые помогут вам с лёгкостью справляться с самыми сложными задачами в области обработки естественного языка. \n",
      "\n",
      "Пусть ваше стремление к познанию будет безграничным, а наш курс станет для вас путеводной звездой на пути к мастерству!\n"
     ]
    }
   ],
   "source": [
    "# Просто импортируем парсер и добавляем его, как ещё 1 звено цепочки\n",
    "from langchain.schema.output_parser import StrOutputParser\n",
    "\n",
    "chain_with_parser = prompt | llm | StrOutputParser() # И ВСЁ!\n",
    "\n",
    "print(chain_with_parser.invoke({'output_text': text, 'style': style}))"
   ]
  },
  {
   "cell_type": "markdown",
   "id": "8a8e17b1-e1ee-4188-a4c3-2457b521aa3e",
   "metadata": {},
   "source": [
    "<div class=\"alert alert-success\">\n",
    "\n",
    "Вы уже, наверное, задумались как же можно переделать нашу `Sequentional Chain` с помощью `LCEL`, давайте скорее посмотрим!"
   ]
  },
  {
   "cell_type": "code",
   "execution_count": 27,
   "id": "24c81657-a07d-47a8-aac0-c656835cc71b",
   "metadata": {
    "tags": []
   },
   "outputs": [],
   "source": [
    "# Немного перепишем функцию очистки\n",
    "def del_spaces(inputs: dict) -> dict:\n",
    "    text = inputs[\"output_text\"]\n",
    "    \n",
    "    # заменяем пустые строки и дополнительные пробелы на один, используя регулярные выражения\n",
    "    text = re.sub(r'(\\r\\n|\\r|\\n){2,}', r'\\n', text)\n",
    "    text = re.sub(r'[ \\t]+', ' ', text)\n",
    "\n",
    "    return {\"output_text\": text, 'style': style}"
   ]
  },
  {
   "cell_type": "code",
   "execution_count": 28,
   "id": "c3303bd6-7239-405b-ae54-20e432053eef",
   "metadata": {
    "tags": []
   },
   "outputs": [
    {
     "data": {
      "text/plain": [
       "AIMessage(content='Доброго времени суток, уважаемые дамы и господа! \\n\\nС превеликим удовольствием приветствуем вас на нашем изысканном курсе, посвящённом искусству тюнинга языковых моделей! Здесь, в этом благородном собрании умов, мы стремимся раскрыть тайны, как возвысить эти модели до небывалых высот, дабы они явили миру свой истинный потенциал.\\n\\nМы с радостью поделимся с вами мудростью о самых современных методах обучения и тонкостях настройки языковых моделей, а также обучим вас практическим навыкам, которые помогут вам с лёгкостью справляться с самыми сложными задачами в области обработки естественного языка. \\n\\nПусть ваше стремление к знаниям будет столь же безграничным, как и наше желание делиться ими!', additional_kwargs={'refusal': None}, response_metadata={'token_usage': {'completion_tokens': 180, 'prompt_tokens': 112, 'total_tokens': 292, 'completion_tokens_details': {'accepted_prediction_tokens': 0, 'audio_tokens': 0, 'reasoning_tokens': 0, 'rejected_prediction_tokens': 0}, 'prompt_tokens_details': {'audio_tokens': 0, 'cached_tokens': 0}}, 'model_name': 'gpt-4o-mini-2024-07-18', 'system_fingerprint': 'fp_dbaca60df0', 'id': 'chatcmpl-BVKoEQ5MakVYWcNQxe1yB2g9f4qeA', 'finish_reason': 'stop', 'logprobs': None}, id='run-bed8c7cc-f0b6-44f3-a236-2878331f8600-0', usage_metadata={'input_tokens': 112, 'output_tokens': 180, 'total_tokens': 292, 'input_token_details': {'audio': 0, 'cache_read': 0}, 'output_token_details': {'audio': 0, 'reasoning': 0}})"
      ]
     },
     "execution_count": 28,
     "metadata": {},
     "output_type": "execute_result"
    }
   ],
   "source": [
    "seq_chain = del_spaces | prompt | llm # И больше ничего не нужно!!!\n",
    "\n",
    "seq_chain.invoke({'output_text': dirty_text, 'style': style})"
   ]
  },
  {
   "cell_type": "markdown",
   "id": "5161ba19-6bb4-48b0-bf6d-db7f486216ae",
   "metadata": {},
   "source": [
    " <div class=\"alert alert-info\">\n",
    "\n",
    "Стало действительно нагляднее, удобней и гораздо короче, вместо кучи ячеек кода и отдельных цепочек - всего 1 строчка!!!\n",
    "\n",
    "Далее все примеры в ноутбуке и следующие темы курса будем показывать, используя `LCEL`. Методы, которыми пользовались ранее, тоже продолжают работать, но переведены в статус `legacy`, т.е вряд ли будут развиваться и обновляться (про них можете почитать в документации)."
   ]
  },
  {
   "cell_type": "markdown",
   "id": "7c714f3b-1694-46d8-a62b-4f9984b3f701",
   "metadata": {},
   "source": [
    "<div class=\"alert alert-success\">\n",
    "\n",
    "Рассмотрим пример с вложенными цепочками."
   ]
  },
  {
   "cell_type": "code",
   "execution_count": 29,
   "id": "67908a31-23b4-4204-8538-64bdcd18ecb6",
   "metadata": {
    "tags": []
   },
   "outputs": [
    {
     "name": "stdout",
     "output_type": "stream",
     "text": [
      "Der Stadt, in der Christoph Kolumbus geboren wurde, ist Genua, die damals eine unabhängige Republik war und heute Teil von Italien ist.\n"
     ]
    }
   ],
   "source": [
    "from operator import itemgetter\n",
    "from langchain.prompts import ChatPromptTemplate\n",
    "\n",
    "\n",
    "prompt1 = ChatPromptTemplate.from_template(\"В каком городе родился {person}?\")\n",
    "prompt2 = ChatPromptTemplate.from_template(\"В какой стране находится город {city}? Ответь на {language} языке.\")\n",
    "\n",
    "chain1 = prompt1 | llm | StrOutputParser()\n",
    "\n",
    "chain2 = (\n",
    "    {\"city\": chain1, \"language\": itemgetter(\"language\")}\n",
    "    | prompt2\n",
    "    | llm\n",
    "    | StrOutputParser()\n",
    ")\n",
    "\n",
    "result = chain2.invoke({\"person\": \"Колумб\", \"language\": \"немецкий\"})\n",
    "print(result)\n"
   ]
  },
  {
   "cell_type": "markdown",
   "id": "10a65406-bcdf-4ca3-8e41-628032c3a143",
   "metadata": {
    "tags": []
   },
   "source": [
    "## <center id=\"p6\"> 🈯️ ➡️ 🇯🇵 Router Chain - определитель тем \n",
    "\n",
    "<div class=\"alert alert-info\">\n",
    "    \n",
    "<img src='../images/rout_chain.jpeg' align=\"right\" width=\"600\" height=\"600\" >   \n",
    "    \n",
    "Например, если у вас есть две цепочки с LLM хорошо натренированными под разные задачи, одна хорошо разбирается в цветах, а другая в футболе. То, когда вы зададите вопрос, `Router Chain` может определить тему и отправить запрос в соответствующую цепочку. <br>\n",
    "Рассмотрим на примере:"
   ]
  },
  {
   "cell_type": "code",
   "execution_count": 30,
   "id": "b233e117-16ff-4336-bd24-a8cdda3bd507",
   "metadata": {
    "tags": []
   },
   "outputs": [],
   "source": [
    "from typing import Literal\n",
    "from langchain.schema.runnable import RunnableBranch, RunnablePassthrough\n",
    "from langchain.output_parsers.openai_functions import PydanticAttrOutputFunctionsParser\n",
    "from pydantic import BaseModel\n",
    "from langchain.utils.openai_functions import convert_pydantic_to_openai_function"
   ]
  },
  {
   "cell_type": "markdown",
   "id": "5d0bcf48-1a51-4302-ab2f-355c12d1986a",
   "metadata": {},
   "source": [
    "<div class=\"alert alert-success\">\n",
    "    \n",
    "Так как у нас нет 2-х разных предобученых моделей под конкретную задачу, попросим ChatGPT отвечать нам, как-будто она специалист в 2 различных областях, с помощью промптов. "
   ]
  },
  {
   "cell_type": "code",
   "execution_count": 31,
   "id": "b5e61868-f148-4fe3-9e22-bfe494ca905b",
   "metadata": {
    "tags": []
   },
   "outputs": [],
   "source": [
    "botanist_template = \"\"\"Ты очень опытный флорист и ботаник, знаешь всё о цветах, растениях.\n",
    "Тебе нравится отвечать на вопросы о том, как выбирать и ухаживать за растениями. \n",
    "Ты отвечаешь так, что всё становится ясно даже начинающему цветоводу. \n",
    "Вот вопрос:\n",
    "{input}\"\"\"\n",
    "\n",
    "football_template = \"\"\"Ты спортивный журналист с большим опытом, твоя основная специализация футбол.\n",
    "Ты знаешь всё о футбольных командах и игроках, и очень любишь отвечать на вопросы о футболе, но кратко и по делу.\n",
    "Вот вопрос:\n",
    "{input}\"\"\""
   ]
  },
  {
   "cell_type": "code",
   "execution_count": 32,
   "id": "8c71a44b-7b08-4eaf-ad9f-0e3c2c4a9b56",
   "metadata": {
    "tags": []
   },
   "outputs": [],
   "source": [
    "# Создаём промпты\n",
    "botanist_prompt = PromptTemplate.from_template(botanist_template)\n",
    "football_prompt = PromptTemplate.from_template(football_template)\n",
    "\n",
    "# Создаём ветки\n",
    "prompt_branch = RunnableBranch(\n",
    "    (lambda x: x[\"topic\"] == \"botany\", botanist_prompt),\n",
    "    (lambda x: x[\"topic\"] == \"football\", football_prompt),\n",
    "    PromptTemplate.from_template(\"Answer the question: {input}\"),\n",
    ")"
   ]
  },
  {
   "cell_type": "code",
   "execution_count": 33,
   "id": "14ba5f64-66d1-4c52-82d5-fad05199c24c",
   "metadata": {
    "tags": []
   },
   "outputs": [
    {
     "name": "stderr",
     "output_type": "stream",
     "text": [
      "/tmp/ipykernel_48082/478961845.py:8: LangChainDeprecationWarning: The function `_convert_pydantic_to_openai_function` was deprecated in LangChain 0.1.16 and will be removed in 1.0. Use :meth:`~langchain_core.utils.function_calling.convert_to_openai_function()` instead.\n",
      "  classifier_function = convert_pydantic_to_openai_function(TopicClassifier)\n"
     ]
    }
   ],
   "source": [
    "class TopicClassifier(BaseModel):\n",
    "    \"Classify the topic of the user question\"\n",
    "\n",
    "    topic: Literal[\"botany\", \"football\", \"general\"]\n",
    "    \"The topic of the user question. One of 'botany', 'football' or 'general'.\"\n",
    "\n",
    "\n",
    "classifier_function = convert_pydantic_to_openai_function(TopicClassifier)\n",
    "\n",
    "model = ChatOpenAI(course_api_key=course_api_key).bind(\n",
    "    functions=[classifier_function],\n",
    "    function_call={\"name\": \"TopicClassifier\"}\n",
    ")\n",
    "parser = PydanticAttrOutputFunctionsParser(pydantic_schema=TopicClassifier, attr_name=\"topic\")\n",
    "\n",
    "classifier_chain = model | parser"
   ]
  },
  {
   "cell_type": "code",
   "execution_count": 34,
   "id": "1cde8fd6-5bcf-42e1-9558-5edcc249d111",
   "metadata": {
    "tags": []
   },
   "outputs": [],
   "source": [
    "router_chain = (\n",
    "    RunnablePassthrough.assign(topic=itemgetter(\"input\") | classifier_chain)\n",
    "    | prompt_branch\n",
    "    | llm\n",
    "    | StrOutputParser()\n",
    ")"
   ]
  },
  {
   "cell_type": "markdown",
   "id": "a74f0444-e013-4c6c-9e12-c7af38a27f84",
   "metadata": {},
   "source": [
    "<div class=\"alert alert-success\">\n",
    "\n",
    "Посмотрим на результат."
   ]
  },
  {
   "cell_type": "code",
   "execution_count": 35,
   "id": "35395e14-027d-4356-b114-305a49e9f0c1",
   "metadata": {
    "tags": []
   },
   "outputs": [
    {
     "data": {
      "text/plain": [
       "'Цвета ФК Барселона — синий и гранатовый (бордовый). Эти цвета символизируют клуб и используются на его форме.'"
      ]
     },
     "execution_count": 35,
     "metadata": {},
     "output_type": "execute_result"
    }
   ],
   "source": [
    "router_chain.invoke({'input': \"Какие цвета у Барселоны?\"})"
   ]
  },
  {
   "cell_type": "code",
   "execution_count": 36,
   "id": "ee8148af-631d-4d0b-a859-fb3035a3d411",
   "metadata": {
    "tags": []
   },
   "outputs": [
    {
     "data": {
      "text/plain": [
       "'Кактусы — это суккуленты, которые могут долго обходиться без воды, поэтому их полив требует особого подхода. В общем, кактусы нужно поливать примерно раз в 2-4 недели, в зависимости от времени года и условий содержания.\\n\\nВот несколько советов по поливу кактусов:\\n\\n1. **Летний полив**: В теплое время года (весна и лето) кактусы можно поливать чаще, примерно раз в 2-3 недели. Убедитесь, что почва полностью высохла между поливами.\\n\\n2. **Зимний полив**: В холодное время года (осень и зима) кактусы находятся в состоянии покоя, и их полив нужно сократить до 1 раза в месяц или даже реже. Важно не переувлажнять, так как это может привести к гниению корней.\\n\\n3. **Проверка почвы**: Перед поливом всегда проверяйте, насколько сухая почва. Вставьте палец на 2-3 см в землю — если она сухая, можно полить. Если влажная, подождите еще несколько дней.\\n\\n4. **Метод полива**: Поливайте кактус до тех пор, пока вода не начнет вытекать из дренажных отверстий горшка. Это поможет обеспечить, что корни получают достаточно влаги.\\n\\nПомните, что лучше недополить, чем перелить!'"
      ]
     },
     "execution_count": 36,
     "metadata": {},
     "output_type": "execute_result"
    }
   ],
   "source": [
    "router_chain.invoke({'input':\"Сколько раз в неделю поливать кактус?\"})"
   ]
  },
  {
   "cell_type": "code",
   "execution_count": 37,
   "id": "18354604-8a77-4b8c-b180-0743085e49fa",
   "metadata": {
    "tags": []
   },
   "outputs": [
    {
     "data": {
      "text/plain": [
       "'В Барселоне, как и в большинстве средиземноморских городов, можно встретить множество красивых цветов и растений. Вот некоторые из них:\\n\\n1. **Герань (Pelargonium)** - это одно из самых популярных растений в Барселоне. Герани часто украшают балконы и террасы благодаря своим ярким цветам и простоте в уходе.\\n\\n2. **Лаванда (Lavandula)** - это ароматное растение с фиолетовыми цветами, которое не только красиво, но и привлекает пчел. Лаванда предпочитает солнечные места и хорошо дренированную почву.\\n\\n3. **Петунья (Petunia)** - эти цветы бывают самых разных цветов и форм. Они отлично подходят для контейнерного озеленения и цветут все лето.\\n\\n4. **Циния (Zinnia)** - яркие и стойкие цветы, которые прекрасно растут в теплую погоду. Они привлекают бабочек и могут быть высажены в саду или в горшках.\\n\\n5. **Олеандр (Nerium oleander)** - это кустарник с крупными цветами, который часто встречается в парках и садах. Он устойчив к засухе, но будьте осторожны: все части растения ядовиты.\\n\\n6. **Мирт (Myrtus communis)** - это вечнозеленый кустарник с ароматными листьями и белыми или розовыми цветами. Он также используется в кулинарии и медицине.\\n\\n7. **Кактусы и суккуленты** - в Барселоне можно встретить множество видов кактусов и суккулентов, которые прекрасно адаптированы к жаркому климату.\\n\\nЕсли вы хотите украсить свой дом или сад растениями, выбирайте те, которые подходят для вашего климата и условий. Уход за ними обычно несложен, но важно помнить о поливе, освещении и удобрении.'"
      ]
     },
     "execution_count": 37,
     "metadata": {},
     "output_type": "execute_result"
    }
   ],
   "source": [
    "router_chain.invoke({'input':\"Какие цветы у Барселоны?\"})"
   ]
  },
  {
   "cell_type": "markdown",
   "id": "cef70f04-e193-4117-9b9e-eb117714dcc7",
   "metadata": {},
   "source": [
    "<div class=\"alert alert-block alert-danger\">\n",
    "    \n",
    "# <center id=\"p7\"> 🛠 Utility Chains 🪝 - считают и выполняют </center>\n",
    "\n",
    "# <center> БОЛЬШЕ НЕ ПОДДЕРЖИВАЮТСЯ ФРЭЙМВОРКОМ - их заменили агенты (читайте в следующем уроке)</center>\n"
   ]
  },
  {
   "cell_type": "markdown",
   "id": "a3eefb1f-577c-448e-bac3-36b7892a311f",
   "metadata": {},
   "source": [
    "<div class=\"alert alert-info\">\n",
    "    \n",
    "Судя по названию, `Utility Chains` выполняют какую-либо утилитарную функцию: математические расчеты, отправляют запросы в интернет и работают с ответом запроса, выполняют bash-скрипты и.т.п. <br>\n",
    "Их достаточно много разных, рассмотрим пример с математической цепочкой:"
   ]
  },
  {
   "cell_type": "code",
   "execution_count": 101,
   "id": "798daceb-fca7-4da2-8d84-7f014fc067d3",
   "metadata": {
    "tags": []
   },
   "outputs": [],
   "source": [
    "# БОЛЬШЕ НЕ РАБОТАЕТ\n",
    "# from langchain.chains import LLMMathChain\n",
    "\n",
    "# math_chain = LLMMathChain(llm=llm, verbose=True)"
   ]
  },
  {
   "cell_type": "code",
   "execution_count": 102,
   "id": "9cc472dd-6ba6-443a-b154-1b4d68e9aebc",
   "metadata": {
    "tags": []
   },
   "outputs": [
    {
     "name": "stdout",
     "output_type": "stream",
     "text": [
      "\n",
      "\n",
      "\u001b[1m> Entering new LLMMathChain chain...\u001b[0m\n",
      "Сколько будет 25 возвести в степень 0.025\u001b[32;1m\u001b[1;3m```text\n",
      "25 ** 0.025\n",
      "```\n",
      "...numexpr.evaluate(\"25 ** 0.025\")...\n",
      "\u001b[0m\n",
      "Answer: \u001b[33;1m\u001b[1;3m1.0837983867343681\u001b[0m\n",
      "\u001b[1m> Finished chain.\u001b[0m\n",
      "Answer: 1.0837983867343681\n"
     ]
    }
   ],
   "source": [
    "print(math_chain.invoke('Сколько будет 25 возвести в степень 0.025'))"
   ]
  },
  {
   "cell_type": "code",
   "execution_count": 62,
   "id": "8485610b-d783-445d-aa49-1f2475346b4b",
   "metadata": {
    "tags": []
   },
   "outputs": [
    {
     "data": {
      "text/plain": [
       "1.0837983867343681"
      ]
     },
     "execution_count": 62,
     "metadata": {},
     "output_type": "execute_result"
    }
   ],
   "source": [
    "# Проверим\n",
    "25 ** 0.025"
   ]
  },
  {
   "cell_type": "markdown",
   "id": "53b50882-8e6e-41a3-b065-8619f588e656",
   "metadata": {},
   "source": [
    "<div class=\"alert alert-info\">\n",
    "    \n",
    "Видим, цепочка получила вопрос на естественном языке и отправила его в модель. LLM вернул код Python, который скомпилировала цепочка, чтобы дать нам ответ. <br>\n",
    "Возникает вопрос: Как LLM узнала, что мы хотим, чтобы он возвращал код Python? <br>\n",
    "Ответ мы можем обнаружить, если посмотрим на промпт этой цепочки:"
   ]
  },
  {
   "cell_type": "code",
   "execution_count": 56,
   "id": "1e43a6a3-c1e5-4bd9-8cc0-3f9036cceebd",
   "metadata": {
    "tags": []
   },
   "outputs": [
    {
     "name": "stdout",
     "output_type": "stream",
     "text": [
      "Translate a math problem into a expression that can be executed using Python's numexpr library. Use the output of running this code to answer the question.\n",
      "\n",
      "Question: ${{Question with math problem.}}\n",
      "```text\n",
      "${{single line mathematical expression that solves the problem}}\n",
      "```\n",
      "...numexpr.evaluate(text)...\n",
      "```output\n",
      "${{Output of running the code}}\n",
      "```\n",
      "Answer: ${{Answer}}\n",
      "\n",
      "Begin.\n",
      "\n",
      "Question: What is 37593 * 67?\n",
      "```text\n",
      "37593 * 67\n",
      "```\n",
      "...numexpr.evaluate(\"37593 * 67\")...\n",
      "```output\n",
      "2518731\n",
      "```\n",
      "Answer: 2518731\n",
      "\n",
      "Question: 37593^(1/5)\n",
      "```text\n",
      "37593**(1/5)\n",
      "```\n",
      "...numexpr.evaluate(\"37593**(1/5)\")...\n",
      "```output\n",
      "8.222831614237718\n",
      "```\n",
      "Answer: 8.222831614237718\n",
      "\n",
      "Question: {question}\n",
      "\n"
     ]
    }
   ],
   "source": [
    "print(math_chain.prompt.template)"
   ]
  },
  {
   "cell_type": "markdown",
   "id": "3b0c8a27-e28b-4178-abb6-7ca48f28b0f1",
   "metadata": {},
   "source": [
    "<div class=\"alert alert-info\">\n",
    "    \n",
    "Мы буквально говорим LLM, что для решения сложных математических задач он не должен пытаться решать математические задачи самостоятельно, а вместо этого должен распечатать код Python, который выполнит расчет математической задачи. Вероятно, если бы мы просто отправили запрос без какого-либо контекста, LLM попыталась бы (и не смогла) вычислить это самостоятельно. <br>\n",
    "Это можно проверить... давайте попробуем! 🧐"
   ]
  },
  {
   "cell_type": "code",
   "execution_count": 65,
   "id": "563a413c-06c9-4ae0-9c48-3aa2745cb6fb",
   "metadata": {
    "tags": []
   },
   "outputs": [
    {
     "data": {
      "text/plain": [
       "AIMessage(content='25 возвести в степень 0.025 равно примерно 1.066018678.')"
      ]
     },
     "execution_count": 65,
     "metadata": {},
     "output_type": "execute_result"
    }
   ],
   "source": [
    "prompt = PromptTemplate(input_variables=['question'], template='{question}')\n",
    "chain = prompt | llm\n",
    "\n",
    "chain.invoke({'question': 'Сколько будет 25 возвести в степень 0.025'})"
   ]
  },
  {
   "cell_type": "markdown",
   "id": "072beff8-a6ee-4a60-b5bb-9f06526b2474",
   "metadata": {},
   "source": [
    "<div class=\"alert alert-success\">\n",
    "\n",
    "Неверный ответ! В этом и заключается сила промптинга. <br>\n",
    "Вывод: разумно используя промптинг, мы можем заставить LLM избегать распространенных ошибок, явно программируя его на определенное поведение."
   ]
  },
  {
   "cell_type": "markdown",
   "id": "c1979793-8fd8-4ce7-8fdc-9dc7dd0a35cf",
   "metadata": {},
   "source": [
    "# <center id=\"p8\"> 🧸 Выводы и заключения ✅ <br>\n",
    "\n",
    "<div class=\"alert alert-info\">\n",
    "    \n",
    "* Во всех, приведенных выше, примерах вы могли заметить, что цепочка в своей основе имеет тот или иной специально написанный промпт\n",
    "* т.е. по сути можно было бы обходиться без них, проектируя новый сложный промпт под каждую задачу. \n",
    "* Но согласитесь, что с помощью цепочек `LangChain` это делать гораздо проще и удобнее. Особенно, если мы говорим про крупные сервисы. \n",
    "* Т.е. цепочки позволяют нам больше сосредоточиться на продумывании логики и функционала сервиса, а не на дизайне промптов."
   ]
  },
  {
   "cell_type": "code",
   "execution_count": null,
   "id": "20453256-4a23-4533-912b-18548ae81dcf",
   "metadata": {},
   "outputs": [],
   "source": []
  }
 ],
 "metadata": {
  "kernelspec": {
   "display_name": "stepik-bQSCubr5-py3.12",
   "language": "python",
   "name": "python3"
  },
  "language_info": {
   "codemirror_mode": {
    "name": "ipython",
    "version": 3
   },
   "file_extension": ".py",
   "mimetype": "text/x-python",
   "name": "python",
   "nbconvert_exporter": "python",
   "pygments_lexer": "ipython3",
   "version": "3.12.3"
  }
 },
 "nbformat": 4,
 "nbformat_minor": 5
}
