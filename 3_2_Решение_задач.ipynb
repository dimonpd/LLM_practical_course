{
 "cells": [
  {
   "cell_type": "code",
   "execution_count": null,
   "metadata": {
    "id": "gEG2cGnXfVBM"
   },
   "outputs": [],
   "source": [
    "!pip install langchain openai langchain-openai langchain-community -q"
   ]
  },
  {
   "cell_type": "code",
   "execution_count": 1,
   "metadata": {
    "id": "ix68Au3nfW94"
   },
   "outputs": [],
   "source": [
    "import re\n",
    "import pandas as pd\n",
    "from tqdm import tqdm\n",
    "from getpass import getpass\n",
    "import polars as pl\n",
    "from langchain.prompts import PromptTemplate\n",
    "from langchain.chains import LLMChain, TransformChain\n",
    "from langchain.output_parsers import ResponseSchema, StructuredOutputParser"
   ]
  },
  {
   "cell_type": "markdown",
   "metadata": {
    "id": "C0K7awRZfciu"
   },
   "source": [
    "## Если используете ключ от OpenAI, запустите эту ячейку 👇"
   ]
  },
  {
   "cell_type": "code",
   "execution_count": null,
   "metadata": {
    "id": "oSaeU0STfbxu"
   },
   "outputs": [],
   "source": [
    "import os\n",
    "from langchain_openai import ChatOpenAI\n",
    "\n",
    "\n",
    "# os.environ['OPENAI_API_KEY'] = \"Введите ваш OpenAI API ключ\"\n",
    "os.environ['OPENAI_API_KEY'] = getpass(prompt='Введите ваш OpenAI API ключ')\n",
    "\n",
    "# Инициализируем языковую модель\n",
    "llm = ChatOpenAI(temperature=0.0)"
   ]
  },
  {
   "cell_type": "markdown",
   "metadata": {
    "id": "KfBKAJ0vfiCh"
   },
   "source": [
    "## Если используете ключ из курса, запустите эти ячейки 👇\n"
   ]
  },
  {
   "cell_type": "code",
   "execution_count": 2,
   "metadata": {
    "id": "mOvzGTXyfgAw"
   },
   "outputs": [
    {
     "name": "stdout",
     "output_type": "stream",
     "text": [
      "--2025-05-10 15:14:12--  https://raw.githubusercontent.com/a-milenkin/LLM_practical_course/main/notebooks/utils.py\n",
      "Resolving raw.githubusercontent.com (raw.githubusercontent.com)... 185.199.108.133, 185.199.110.133, 185.199.111.133, ...\n",
      "Connecting to raw.githubusercontent.com (raw.githubusercontent.com)|185.199.108.133|:443... connected.\n",
      "HTTP request sent, awaiting response... 200 OK\n",
      "Length: 11316 (11K) [text/plain]\n",
      "Saving to: ‘utils.py.5’\n",
      "\n",
      "utils.py.5          100%[===================>]  11.05K  --.-KB/s    in 0.02s   \n",
      "\n",
      "2025-05-10 15:14:14 (566 KB/s) - ‘utils.py.5’ saved [11316/11316]\n",
      "\n"
     ]
    }
   ],
   "source": [
    "!wget https://raw.githubusercontent.com/a-milenkin/LLM_practical_course/main/notebooks/utils.py"
   ]
  },
  {
   "cell_type": "code",
   "execution_count": 3,
   "metadata": {
    "id": "_baYTEnSfex7"
   },
   "outputs": [],
   "source": [
    "from utils import ChatOpenAI\n",
    "from getpass import getpass\n",
    "\n",
    "#course_api_key= \"Введите ваш API ключ, полученный в боте курса\"\n",
    "course_api_key = getpass(prompt='Введите ваш API ключ, полученный в боте курса')\n",
    "\n",
    "# инициализируем языковую модель\n",
    "llm = ChatOpenAI(temperature=0.0, course_api_key=course_api_key)"
   ]
  },
  {
   "cell_type": "markdown",
   "metadata": {
    "id": "z2JH453Ufm4L"
   },
   "source": [
    "## Задание 3.2.9 🤔 Кажется, это что-то на LLM-ском? 🧐"
   ]
  },
  {
   "cell_type": "code",
   "execution_count": 4,
   "metadata": {
    "id": "HExe1XOeflIq"
   },
   "outputs": [
    {
     "data": {
      "text/html": [
       "<div><style>\n",
       ".dataframe > thead > tr,\n",
       ".dataframe > tbody > tr {\n",
       "  text-align: right;\n",
       "  white-space: pre-wrap;\n",
       "}\n",
       "</style>\n",
       "<small>shape: (5, 1)</small><table border=\"1\" class=\"dataframe\"><thead><tr><th>raw_text</th></tr><tr><td>str</td></tr></thead><tbody><tr><td>&quot;The sun was setting, casting l…</td></tr><tr><td>&quot;Le soleil se couchait, jetant …</td></tr><tr><td>&quot;El sol se estaba poniendo, pro…</td></tr><tr><td>&quot;La ciudad estaba llena de vida…</td></tr><tr><td>&quot;La ville était pleine de vie, …</td></tr></tbody></table></div>"
      ],
      "text/plain": [
       "shape: (5, 1)\n",
       "┌─────────────────────────────────┐\n",
       "│ raw_text                        │\n",
       "│ ---                             │\n",
       "│ str                             │\n",
       "╞═════════════════════════════════╡\n",
       "│ The sun was setting, casting l… │\n",
       "│ Le soleil se couchait, jetant … │\n",
       "│ El sol se estaba poniendo, pro… │\n",
       "│ La ciudad estaba llena de vida… │\n",
       "│ La ville était pleine de vie, … │\n",
       "└─────────────────────────────────┘"
      ]
     },
     "execution_count": 4,
     "metadata": {},
     "output_type": "execute_result"
    }
   ],
   "source": [
    "df = pl.read_csv(\"https://stepik.org/media/attachments/lesson/1110883/raw_texts.csv\")\n",
    "df.head()"
   ]
  },
  {
   "cell_type": "markdown",
   "metadata": {
    "id": "lECMhfEigA2x"
   },
   "source": [
    "Напишем функцию, которая очистит текст от ненужных символов: `¿, ¡, £`"
   ]
  },
  {
   "cell_type": "code",
   "execution_count": 6,
   "metadata": {
    "id": "kcQcCsnqgDo-"
   },
   "outputs": [],
   "source": [
    "def clean_text(inputs: dict) -> dict:\n",
    "    text = inputs[\"text\"]\n",
    "    \n",
    "    # Удаляем символы ¿, ¡, £\n",
    "    text = text.str.replace(\"¿\", \"\", literal=True).str.replace(\"¡\", \"\", literal=True).str.replace(\"£\", \"\", literal=True)\n",
    "    \n",
    "    # Удаляем лишние пробелы\n",
    "    # В Polars можно использовать регулярные выражения для замены нескольких пробелов на один\n",
    "    text = text.str.replace(\" +\", \" \", literal=False)\n",
    "    \n",
    "    # Удаляем пробелы в начале и конце\n",
    "    text = text.str.strip_chars()\n",
    "    \n",
    "    return {\"text\": text}"
   ]
  },
  {
   "cell_type": "code",
   "execution_count": 7,
   "metadata": {},
   "outputs": [
    {
     "data": {
      "text/plain": [
       "{'text': shape: (13,)\n",
       " Series: 'raw_text' [str]\n",
       " [\n",
       " \t\"The sun was setting, casting l…\n",
       " \t\"Le soleil se couchait, jetant …\n",
       " \t\"El sol se estaba poniendo, pro…\n",
       " \t\"La ciudad estaba llena de vida…\n",
       " \t\"La ville était pleine de vie, …\n",
       " \t…\n",
       " \t\"In a small town nestled betwee…\n",
       " \t\"En un pequeño pueblo situado e…\n",
       " \t\"Dans un petit village niché en…\n",
       " \t\"В городе было множество людей,…\n",
       " \t\"La città era piena di vita, le…\n",
       " ]}"
      ]
     },
     "execution_count": 7,
     "metadata": {},
     "output_type": "execute_result"
    }
   ],
   "source": [
    "clean_text({\"text\": df['raw_text']})"
   ]
  },
  {
   "cell_type": "markdown",
   "metadata": {
    "id": "I5fppZD7gISy"
   },
   "source": [
    "Будем просить у модели определять язык и имя главного персонажа и выдавать ответ в виде словаря. Для этого создадим `Output parser`, с которым вы уже познакомились в прошлых уроках."
   ]
  },
  {
   "cell_type": "code",
   "execution_count": 9,
   "metadata": {
    "id": "sMwNyCdigKr3"
   },
   "outputs": [],
   "source": [
    "# Определим схемы ответа\n",
    "language_schema = ResponseSchema(\n",
    "    name=\"language\",\n",
    "    description=\"Язык текста. Название языка на английском языке. Пример: 'Russian', 'English', 'French', 'German'.\"\n",
    ")\n",
    "main_character_schema = ResponseSchema(\n",
    "    name=\"main_character\",\n",
    "    description=\"Имя главного персонажа в тексте на том языке, на котором написан текст.\"\n",
    ")\n",
    "\n",
    "\n",
    "response_schemas = [language_schema, main_character_schema]\n",
    "output_parser = StructuredOutputParser(response_schemas=response_schemas)\n",
    "format_instructions = output_parser.get_format_instructions()"
   ]
  },
  {
   "cell_type": "markdown",
   "metadata": {
    "id": "X4sjobt8gaeC"
   },
   "source": [
    "Напишем шаблон промпта со своим вопросом и инструкциями по форматированию ответа. Будем передавать в этот промпт сырой текст"
   ]
  },
  {
   "cell_type": "code",
   "execution_count": 10,
   "metadata": {
    "id": "YO0jk4_rgaCH"
   },
   "outputs": [],
   "source": [
    "prompt = PromptTemplate(\n",
    "    template=\"\"\"Проанализируй следующий текст и определи язык, на котором он написан, и имя главного персонажа в тексте.\n",
    "\n",
    "Текст: {text}\n",
    "\n",
    "{format_instructions}\"\"\",\n",
    "    input_variables=[\"text\"],\n",
    "    partial_variables={\"format_instructions\": format_instructions}\n",
    ")"
   ]
  },
  {
   "cell_type": "markdown",
   "metadata": {
    "id": "Uf9zTeF4gi4H"
   },
   "source": [
    "Создадим цепочку с помощью `LCEL`"
   ]
  },
  {
   "cell_type": "code",
   "execution_count": 11,
   "metadata": {
    "id": "u3DdWjgQggEF"
   },
   "outputs": [
    {
     "name": "stderr",
     "output_type": "stream",
     "text": [
      "/tmp/ipykernel_105843/2050997211.py:1: LangChainDeprecationWarning: The class `LLMChain` was deprecated in LangChain 0.1.17 and will be removed in 1.0. Use :meth:`~RunnableSequence, e.g., `prompt | llm`` instead.\n",
      "  chain = LLMChain(\n"
     ]
    }
   ],
   "source": [
    "chain = LLMChain(\n",
    "    llm=llm,\n",
    "    prompt=prompt,\n",
    "    output_parser=output_parser,\n",
    "    verbose=True\n",
    ")"
   ]
  },
  {
   "cell_type": "code",
   "execution_count": 12,
   "metadata": {
    "id": "ZrDjre54gpVs"
   },
   "outputs": [
    {
     "name": "stderr",
     "output_type": "stream",
     "text": [
      "  0%|          | 0/13 [00:00<?, ?it/s]/tmp/ipykernel_105843/1191620087.py:3: LangChainDeprecationWarning: The method `Chain.run` was deprecated in langchain 0.1.0 and will be removed in 1.0. Use :meth:`~invoke` instead.\n",
      "  result = chain.run({\"text\": text})\n"
     ]
    },
    {
     "name": "stdout",
     "output_type": "stream",
     "text": [
      "\n",
      "\n",
      "\u001b[1m> Entering new LLMChain chain...\u001b[0m\n",
      "Prompt after formatting:\n",
      "\u001b[32;1m\u001b[1;3mПроанализируй следующий текст и определи язык, на котором он написан, и имя главного персонажа в тексте.\n",
      "\n",
      "Текст: The sun was setting, casting long shadows over the small town. Jo¿hn, a middle-aged man with a heart full of dreams, was sitting on the porch of his old house. His friends, Peter and Mary, were there with him, sharing stories of their youth. They were all from the same tow¡n, and their lives were intertwined in ways they could never have imagined. Peter, a burly man with a booming voice, was the town's blacksmith. He was a man of few words, but his actions spoke volumes. Mary, on the other hand, was the town's schoolteacher. She was a woman of great wisdom and kindness, always ready to lend a helping hand. As they s¡at there, reminiscing about the past, a sense of nostalgia washed over them. They remembered the days when they were young and full of hope, when the world seemed full of possibilities. But now, as they looked at the setting sun, they realized that those days were long gone. John, however, was not ready to give up. He still had dreams, dreams that he was determined to fulfill. He knew that it would not be easy, but he was ready to face whatever challenges came his way. With Peter and Mary by his side, he knew that he could achieve anything.\n",
      "\n",
      "The output should be a markdown code snippet formatted in the following schema, including the leading and trailing \"```json\" and \"```\":\n",
      "\n",
      "```json\n",
      "{\n",
      "\t\"language\": string  // Язык текста. Название языка на английском языке. Пример: 'Russian', 'English', 'French', 'German'.\n",
      "\t\"main_character\": string  // Имя главного персонажа в тексте на том языке, на котором написан текст.\n",
      "}\n",
      "```\u001b[0m\n"
     ]
    },
    {
     "name": "stderr",
     "output_type": "stream",
     "text": [
      "  0%|          | 0/13 [00:03<?, ?it/s]"
     ]
    },
    {
     "name": "stdout",
     "output_type": "stream",
     "text": [
      "\n",
      "\u001b[1m> Finished chain.\u001b[0m\n",
      "{'language': 'English', 'main_character': 'John'}\n"
     ]
    },
    {
     "name": "stderr",
     "output_type": "stream",
     "text": [
      "\n"
     ]
    }
   ],
   "source": [
    "for text in tqdm(df['raw_text']):\n",
    "    # Применяем цепочку к тексту\n",
    "    result = chain.run({\"text\": text})\n",
    "    # Выводим результат\n",
    "    print(result)\n",
    "    break # Для отладки. Уберите, когда убедитесь, что на одном примере работает"
   ]
  },
  {
   "cell_type": "markdown",
   "metadata": {
    "id": "HsW9_cn6gy7-"
   },
   "source": [
    "Сохраним всё в итоговый файл. Убедитесь, что на этом этапе у вас в столбцах\n",
    "\n",
    "- `text` - очищенный текст (без символов ¿, ¡, £)\n",
    "- `language` - язык, на котором написан текст (название языка указать на английском языке)\n",
    "- `main_character` - имя главного персонажа в тексте (указать на том языке, на котором и написан сам текст)"
   ]
  },
  {
   "cell_type": "code",
   "execution_count": null,
   "metadata": {
    "id": "p9CUjXZsgveh"
   },
   "outputs": [],
   "source": []
  },
  {
   "cell_type": "code",
   "execution_count": 22,
   "metadata": {},
   "outputs": [
    {
     "name": "stderr",
     "output_type": "stream",
     "text": [
      "  0%|          | 0/13 [00:00<?, ?it/s]"
     ]
    },
    {
     "name": "stdout",
     "output_type": "stream",
     "text": [
      "\n",
      "\n",
      "\u001b[1m> Entering new LLMChain chain...\u001b[0m\n",
      "Prompt after formatting:\n",
      "\u001b[32;1m\u001b[1;3mПроанализируй следующий текст и определи язык, на котором он написан, и имя главного персонажа в тексте.\n",
      "\n",
      "Текст: The sun was setting, casting long shadows over the small town. John, a middle-aged man with a heart full of dreams, was sitting on the porch of his old house. His friends, Peter and Mary, were there with him, sharing stories of their youth. They were all from the same town, and their lives were intertwined in ways they could never have imagined. Peter, a burly man with a booming voice, was the town's blacksmith. He was a man of few words, but his actions spoke volumes. Mary, on the other hand, was the town's schoolteacher. She was a woman of great wisdom and kindness, always ready to lend a helping hand. As they sat there, reminiscing about the past, a sense of nostalgia washed over them. They remembered the days when they were young and full of hope, when the world seemed full of possibilities. But now, as they looked at the setting sun, they realized that those days were long gone. John, however, was not ready to give up. He still had dreams, dreams that he was determined to fulfill. He knew that it would not be easy, but he was ready to face whatever challenges came his way. With Peter and Mary by his side, he knew that he could achieve anything.\n",
      "\n",
      "The output should be a markdown code snippet formatted in the following schema, including the leading and trailing \"```json\" and \"```\":\n",
      "\n",
      "```json\n",
      "{\n",
      "\t\"language\": string  // Язык текста. Название языка на английском языке. Пример: 'Russian', 'English', 'French', 'German'.\n",
      "\t\"main_character\": string  // Имя главного персонажа в тексте на том языке, на котором написан текст.\n",
      "}\n",
      "```\u001b[0m\n"
     ]
    },
    {
     "name": "stderr",
     "output_type": "stream",
     "text": [
      "  8%|▊         | 1/13 [00:02<00:32,  2.71s/it]"
     ]
    },
    {
     "name": "stdout",
     "output_type": "stream",
     "text": [
      "\n",
      "\u001b[1m> Finished chain.\u001b[0m\n",
      "\n",
      "\n",
      "\u001b[1m> Entering new LLMChain chain...\u001b[0m\n",
      "Prompt after formatting:\n",
      "\u001b[32;1m\u001b[1;3mПроанализируй следующий текст и определи язык, на котором он написан, и имя главного персонажа в тексте.\n",
      "\n",
      "Текст: Le soleil se couchait, jetant de longues ombres sur la petite ville. Pierre, un homme d'âge moyen avec un cœur plein de rêves, était assis sur le porche de sa vieille maison. Ses amis, Jacques et Marie, étaient là avec lui, partageant des histoires de leur jeunesse. Ils étaient tous de la même ville, et leurs vies étaient entrelacées de manière qu'ils n'auraient jamais pu imaginer. Jacques, un homme robuste à la voix tonitruante, était le forgeron de la ville. Il était un homme de peu de mots, mais ses actions parlaient beaucoup. Marie, en revanche, était l'institutrice de la ville. Elle était une femme de grande sagesse et de gentillesse, toujours prête à tendre la main. Alors qu'ils étaient assis là, se remémorant le passé, un sentiment de nostalgie les envahit. Ils se souvenaient des jours où ils étaient jeunes et pleins d'espoir, quand le monde semblait plein de possibilités. Mais maintenant, en regardant le soleil couchant, ils se rendaient compte que ces jours étaient révolus. Pierre, cependant, n'était pas prêt à abandonner. Il avait encore des rêves, des rêves qu'il était déterminé à réaliser. Il savait que ce ne serait pas facile, mais il était prêt à affronter tous les défis qui se présenteraient à lui. Avec Jacques et Marie à ses côtés, il savait qu'il pouvait accomplir n'importe quoi.\n",
      "\n",
      "The output should be a markdown code snippet formatted in the following schema, including the leading and trailing \"```json\" and \"```\":\n",
      "\n",
      "```json\n",
      "{\n",
      "\t\"language\": string  // Язык текста. Название языка на английском языке. Пример: 'Russian', 'English', 'French', 'German'.\n",
      "\t\"main_character\": string  // Имя главного персонажа в тексте на том языке, на котором написан текст.\n",
      "}\n",
      "```\u001b[0m\n"
     ]
    },
    {
     "name": "stderr",
     "output_type": "stream",
     "text": [
      " 15%|█▌        | 2/13 [00:03<00:20,  1.85s/it]"
     ]
    },
    {
     "name": "stdout",
     "output_type": "stream",
     "text": [
      "\n",
      "\u001b[1m> Finished chain.\u001b[0m\n",
      "\n",
      "\n",
      "\u001b[1m> Entering new LLMChain chain...\u001b[0m\n",
      "Prompt after formatting:\n",
      "\u001b[32;1m\u001b[1;3mПроанализируй следующий текст и определи язык, на котором он написан, и имя главного персонажа в тексте.\n",
      "\n",
      "Текст: El sol se estaba poniendo, proyectando largas sombras sobre el pequeño pueblo. Carlos, un hombre de mediana edad con un corazón lleno de sueños, estaba sentado en el porche de su antigua casa. Sus amigos, Pedro y María, estaban allí con él, compartiendo historias de su juventud. Todos eran del mismo pueblo, y sus vidas estaban entrelazadas de formas que nunca podrían haber imaginado. Pedro, un hombre corpulento con una voz estruendosa, era el herrero del pueblo. Era un hombre de pocas palabras, pero sus acciones hablaban por sí solas. María, por otro lado, era la maestra del pueblo. Era una mujer de gran sabiduría y bondad, siempre dispuesta a echar una mano. Mientras estaban allí, recordando el pasado, un sentimiento de nostalgia los invadió. Recordaban los días en que eran jóvenes y llenos de esperanza, cuando el mundo parecía lleno de posibilidades. Pero ahora, al mirar el sol poniente, se dieron cuenta de que esos días habían quedado atrás. Carlos, sin embargo, no estaba listo para rendirse. Todavía tenía sueños, sueños que estaba decidido a cumplir. Sabía que no sería fácil, pero estaba dispuesto a enfrentar cualquier desafío que se le presentara. Con Pedro y María a su lado, sabía que podía lograr cualquier cosa.\n",
      "\n",
      "The output should be a markdown code snippet formatted in the following schema, including the leading and trailing \"```json\" and \"```\":\n",
      "\n",
      "```json\n",
      "{\n",
      "\t\"language\": string  // Язык текста. Название языка на английском языке. Пример: 'Russian', 'English', 'French', 'German'.\n",
      "\t\"main_character\": string  // Имя главного персонажа в тексте на том языке, на котором написан текст.\n",
      "}\n",
      "```\u001b[0m\n"
     ]
    },
    {
     "name": "stderr",
     "output_type": "stream",
     "text": [
      " 23%|██▎       | 3/13 [00:05<00:15,  1.52s/it]"
     ]
    },
    {
     "name": "stdout",
     "output_type": "stream",
     "text": [
      "\n",
      "\u001b[1m> Finished chain.\u001b[0m\n",
      "\n",
      "\n",
      "\u001b[1m> Entering new LLMChain chain...\u001b[0m\n",
      "Prompt after formatting:\n",
      "\u001b[32;1m\u001b[1;3mПроанализируй следующий текст и определи язык, на котором он написан, и имя главного персонажа в тексте.\n",
      "\n",
      "Текст: La ciudad estaba llena de vida, sus calles llenas de ruido de personas y coches. En medio del caos, Juan, un joven con un sueño, estaba tratando de abrirse camino. Sus amigos, Pedro y María, siempre estaban a su lado, apoyándolo en sus esfuerzos. Eran un trío, inseparables y llenos de vida. Pero la vida en la ciudad no era fácil. Tenían que enfrentar muchos desafíos, pero nunca se dieron por vencidos. Creían en sus sueños y en cada uno de ellos. Y así, continuaron su viaje, enfrentando cada obstáculo con coraje y determinación.\n",
      "\n",
      "The output should be a markdown code snippet formatted in the following schema, including the leading and trailing \"```json\" and \"```\":\n",
      "\n",
      "```json\n",
      "{\n",
      "\t\"language\": string  // Язык текста. Название языка на английском языке. Пример: 'Russian', 'English', 'French', 'German'.\n",
      "\t\"main_character\": string  // Имя главного персонажа в тексте на том языке, на котором написан текст.\n",
      "}\n",
      "```\u001b[0m\n"
     ]
    },
    {
     "name": "stderr",
     "output_type": "stream",
     "text": [
      " 31%|███       | 4/13 [00:06<00:12,  1.38s/it]"
     ]
    },
    {
     "name": "stdout",
     "output_type": "stream",
     "text": [
      "\n",
      "\u001b[1m> Finished chain.\u001b[0m\n",
      "\n",
      "\n",
      "\u001b[1m> Entering new LLMChain chain...\u001b[0m\n",
      "Prompt after formatting:\n",
      "\u001b[32;1m\u001b[1;3mПроанализируй следующий текст и определи язык, на котором он написан, и имя главного персонажа в тексте.\n",
      "\n",
      "Текст: La ville était pleine de vie, ses rues remplies du bruit des gens et des voitures. Au milieu du chaos, Jean, un jeune homme avec un rêve, essayait de se frayer un chemin. Ses amis, Pierre et Marie, étaient toujours à ses côtés, le soutenant dans ses efforts. Ils étaient un trio, inséparables et pleins de vie. Mais la vie en ville n'était pas facile. Ils devaient faire face à de nombreux défis, mais ils ne se sont jamais découragés. Ils croyaient en leurs rêves et en chacun d'eux. Et ainsi, ils ont continué leur voyage, affrontant chaque obstacle avec courage et détermination.\n",
      "\n",
      "The output should be a markdown code snippet formatted in the following schema, including the leading and trailing \"```json\" and \"```\":\n",
      "\n",
      "```json\n",
      "{\n",
      "\t\"language\": string  // Язык текста. Название языка на английском языке. Пример: 'Russian', 'English', 'French', 'German'.\n",
      "\t\"main_character\": string  // Имя главного персонажа в тексте на том языке, на котором написан текст.\n",
      "}\n",
      "```\u001b[0m\n"
     ]
    },
    {
     "name": "stderr",
     "output_type": "stream",
     "text": [
      " 38%|███▊      | 5/13 [00:07<00:10,  1.29s/it]"
     ]
    },
    {
     "name": "stdout",
     "output_type": "stream",
     "text": [
      "\n",
      "\u001b[1m> Finished chain.\u001b[0m\n",
      "\n",
      "\n",
      "\u001b[1m> Entering new LLMChain chain...\u001b[0m\n",
      "Prompt after formatting:\n",
      "\u001b[32;1m\u001b[1;3mПроанализируй следующий текст и определи язык, на котором он написан, и имя главного персонажа в тексте.\n",
      "\n",
      "Текст: Die Stadt war voller Leben, ihre Straßen gefüllt mit dem Lärm von Menschen und Autos. Mitten im Chaos versuchte Johann, ein junger Mann mit einem Traum, seinen Weg zu machen. Seine Freunde, Peter und Maria, standen ihm immer zur Seite und unterstützten ihn bei seinen Bemühungen. Sie waren ein Trio, unzertrennlich und voller Leben. Aber das Leben in der Stadt war nicht einfach. Sie mussten viele Herausforderungen meistern, aber sie gaben nie auf. Sie glaubten an ihre Träume und aneinander. Und so setzten sie ihre Reise fort, jedes Hindernis mit Mut und Entschlossenheit zu überwinden.\n",
      "\n",
      "The output should be a markdown code snippet formatted in the following schema, including the leading and trailing \"```json\" and \"```\":\n",
      "\n",
      "```json\n",
      "{\n",
      "\t\"language\": string  // Язык текста. Название языка на английском языке. Пример: 'Russian', 'English', 'French', 'German'.\n",
      "\t\"main_character\": string  // Имя главного персонажа в тексте на том языке, на котором написан текст.\n",
      "}\n",
      "```\u001b[0m\n"
     ]
    },
    {
     "name": "stderr",
     "output_type": "stream",
     "text": [
      " 46%|████▌     | 6/13 [00:08<00:08,  1.23s/it]"
     ]
    },
    {
     "name": "stdout",
     "output_type": "stream",
     "text": [
      "\n",
      "\u001b[1m> Finished chain.\u001b[0m\n",
      "\n",
      "\n",
      "\u001b[1m> Entering new LLMChain chain...\u001b[0m\n",
      "Prompt after formatting:\n",
      "\u001b[32;1m\u001b[1;3mПроанализируй следующий текст и определи язык, на котором он написан, и имя главного персонажа в тексте.\n",
      "\n",
      "Текст: Die Sonne ging unter und warf lange Schatten über die kleine Stadt. Hans, ein Mann mittleren Alters mit einem Herzen voller Träume, saß auf der Veranda seines alten Hauses. Seine Freunde, Peter und Maria, waren bei ihm und teilten Geschichten aus ihrer Jugend. Sie alle stammten aus derselben Stadt und ihre Leben waren auf eine Weise miteinander verflochten, die sie sich nie hätten vorstellen können. Peter, ein kräftiger Mann mit einer donnernden Stimme, war der Schmied der Stadt. Er war ein Mann der wenigen Worte, aber seine Taten sprachen Bände. Maria hingegen war die Lehrerin der Stadt. Sie war eine Frau von großer Weisheit und Güte, immer bereit, eine helfende Hand zu reichen. Während sie dort saßen und sich an die Vergangenheit erinnerten, überkam sie ein Gefühl der Nostalgie. Sie erinnerten sich an die Tage, als sie jung und voller Hoffnung waren, als die Welt voller Möglichkeiten zu sein schien. Aber jetzt, als sie die untergehende Sonne betrachteten, erkannten sie, dass diese Tage längst vorbei waren. Hans jedoch war nicht bereit aufzugeben. Er hatte immer noch Träume, Träume, die er entschlossen war zu erfüllen. Er wusste, dass es nicht einfach sein würde, aber er war bereit, sich jeder Herausforderung zu stellen. Mit Peter und Maria an seiner Seite wusste er, dass er alles erreichen konnte.\n",
      "\n",
      "The output should be a markdown code snippet formatted in the following schema, including the leading and trailing \"```json\" and \"```\":\n",
      "\n",
      "```json\n",
      "{\n",
      "\t\"language\": string  // Язык текста. Название языка на английском языке. Пример: 'Russian', 'English', 'French', 'German'.\n",
      "\t\"main_character\": string  // Имя главного персонажа в тексте на том языке, на котором написан текст.\n",
      "}\n",
      "```\u001b[0m\n"
     ]
    },
    {
     "name": "stderr",
     "output_type": "stream",
     "text": [
      " 54%|█████▍    | 7/13 [00:09<00:07,  1.21s/it]"
     ]
    },
    {
     "name": "stdout",
     "output_type": "stream",
     "text": [
      "\n",
      "\u001b[1m> Finished chain.\u001b[0m\n",
      "\n",
      "\n",
      "\u001b[1m> Entering new LLMChain chain...\u001b[0m\n",
      "Prompt after formatting:\n",
      "\u001b[32;1m\u001b[1;3mПроанализируй следующий текст и определи язык, на котором он написан, и имя главного персонажа в тексте.\n",
      "\n",
      "Текст: В тихом уголке старого города, где узкие улочки переплетались в бесконечный лабиринт, стоял небольшой домик. В нем жила Анна. Она была необычной девушкой, с добрыми глазами и теплой улыбкой. В ее жизни было много интересных персонажей: старый сосед Петр, который всегда рассказывал ей истории о прошлом города, маленькая девочка Маша, которая любила играть с Анной в саду, и ее лучший друг Иван, который всегда был рядом в трудные моменты. Вместе они переживали множество приключений, и каждый день был для них новым открытием.\n",
      "\n",
      "The output should be a markdown code snippet formatted in the following schema, including the leading and trailing \"```json\" and \"```\":\n",
      "\n",
      "```json\n",
      "{\n",
      "\t\"language\": string  // Язык текста. Название языка на английском языке. Пример: 'Russian', 'English', 'French', 'German'.\n",
      "\t\"main_character\": string  // Имя главного персонажа в тексте на том языке, на котором написан текст.\n",
      "}\n",
      "```\u001b[0m\n"
     ]
    },
    {
     "name": "stderr",
     "output_type": "stream",
     "text": [
      " 62%|██████▏   | 8/13 [00:10<00:06,  1.22s/it]"
     ]
    },
    {
     "name": "stdout",
     "output_type": "stream",
     "text": [
      "\n",
      "\u001b[1m> Finished chain.\u001b[0m\n",
      "\n",
      "\n",
      "\u001b[1m> Entering new LLMChain chain...\u001b[0m\n",
      "Prompt after formatting:\n",
      "\u001b[32;1m\u001b[1;3mПроанализируй следующий текст и определи язык, на котором он написан, и имя главного персонажа в тексте.\n",
      "\n",
      "Текст: In a small town nestled between the mountains and the sea, there was a girl named Laura. She was known for her kindness and her love for nature. Her life was filled with interesting characters: the old fisherman John, who would tell her tales of the sea, the young boy Tom, who would join her on her adventures, and her best friend Emily, who was always there for her. Together, they experienced many adventures, and each day was a new discovery for them.\n",
      "\n",
      "The output should be a markdown code snippet formatted in the following schema, including the leading and trailing \"```json\" and \"```\":\n",
      "\n",
      "```json\n",
      "{\n",
      "\t\"language\": string  // Язык текста. Название языка на английском языке. Пример: 'Russian', 'English', 'French', 'German'.\n",
      "\t\"main_character\": string  // Имя главного персонажа в тексте на том языке, на котором написан текст.\n",
      "}\n",
      "```\u001b[0m\n"
     ]
    },
    {
     "name": "stderr",
     "output_type": "stream",
     "text": [
      " 69%|██████▉   | 9/13 [00:12<00:05,  1.26s/it]"
     ]
    },
    {
     "name": "stdout",
     "output_type": "stream",
     "text": [
      "\n",
      "\u001b[1m> Finished chain.\u001b[0m\n",
      "\n",
      "\n",
      "\u001b[1m> Entering new LLMChain chain...\u001b[0m\n",
      "Prompt after formatting:\n",
      "\u001b[32;1m\u001b[1;3mПроанализируй следующий текст и определи язык, на котором он написан, и имя главного персонажа в тексте.\n",
      "\n",
      "Текст: En un pequeño pueblo situado entre las montañas y el mar, vivía una chica llamada Maria. Era conocida por su bondad y su amor por la naturaleza. Su vida estaba llena de personajes interesantes: el viejo pescador Juan, que le contaba historias del mar, el joven Tomás, que se unía a ella en sus aventuras, y su mejor amiga Emilia, que siempre estaba allí para ella. Juntos, vivieron muchas aventuras, y cada día era un nuevo descubrimiento para ellos.\n",
      "\n",
      "The output should be a markdown code snippet formatted in the following schema, including the leading and trailing \"```json\" and \"```\":\n",
      "\n",
      "```json\n",
      "{\n",
      "\t\"language\": string  // Язык текста. Название языка на английском языке. Пример: 'Russian', 'English', 'French', 'German'.\n",
      "\t\"main_character\": string  // Имя главного персонажа в тексте на том языке, на котором написан текст.\n",
      "}\n",
      "```\u001b[0m\n"
     ]
    },
    {
     "name": "stderr",
     "output_type": "stream",
     "text": [
      " 77%|███████▋  | 10/13 [00:13<00:03,  1.24s/it]"
     ]
    },
    {
     "name": "stdout",
     "output_type": "stream",
     "text": [
      "\n",
      "\u001b[1m> Finished chain.\u001b[0m\n",
      "\n",
      "\n",
      "\u001b[1m> Entering new LLMChain chain...\u001b[0m\n",
      "Prompt after formatting:\n",
      "\u001b[32;1m\u001b[1;3mПроанализируй следующий текст и определи язык, на котором он написан, и имя главного персонажа в тексте.\n",
      "\n",
      "Текст: Dans un petit village niché entre les montagnes et la mer, vivait une fille nommée Sophie. Elle était connue pour sa gentillesse et son amour pour la nature. Sa vie était remplie de personnages intéressants : le vieux pêcheur Jean, qui lui racontait des histoires de la mer, le jeune garçon Thomas, qui la rejoignait dans ses aventures, et sa meilleure amie Emilie, qui était toujours là pour elle. Ensemble, ils ont vécu de nombreuses aventures, et chaque jour était une nouvelle découverte pour eux.\n",
      "\n",
      "The output should be a markdown code snippet formatted in the following schema, including the leading and trailing \"```json\" and \"```\":\n",
      "\n",
      "```json\n",
      "{\n",
      "\t\"language\": string  // Язык текста. Название языка на английском языке. Пример: 'Russian', 'English', 'French', 'German'.\n",
      "\t\"main_character\": string  // Имя главного персонажа в тексте на том языке, на котором написан текст.\n",
      "}\n",
      "```\u001b[0m\n"
     ]
    },
    {
     "name": "stderr",
     "output_type": "stream",
     "text": [
      " 85%|████████▍ | 11/13 [00:14<00:02,  1.25s/it]"
     ]
    },
    {
     "name": "stdout",
     "output_type": "stream",
     "text": [
      "\n",
      "\u001b[1m> Finished chain.\u001b[0m\n",
      "\n",
      "\n",
      "\u001b[1m> Entering new LLMChain chain...\u001b[0m\n",
      "Prompt after formatting:\n",
      "\u001b[32;1m\u001b[1;3mПроанализируй следующий текст и определи язык, на котором он написан, и имя главного персонажа в тексте.\n",
      "\n",
      "Текст: В городе было множество людей, каждый из которых был занят своими делами. Среди этой суеты, Иван, молодой человек с большими мечтами, пытался найти свое место. Его друзья, Сергей и Мария, всегда были рядом, поддерживая его во всех начинаниях. Они верили в него, когда никто другой не верил. Но жизнь в городе была непростой. Конкуренция была ожесточенной, а борьба - реальной. Несмотря на все трудности, Иван был решен сделать все возможное, чтобы достичь своих целей. Он знал, что ему придется много работать и никогда не сдаваться. Его путь был непрост, но благодаря поддержке друзей и непоколебимой решимости, он смог преодолеть все препятствия и достичь своих мечт.\n",
      "\n",
      "The output should be a markdown code snippet formatted in the following schema, including the leading and trailing \"```json\" and \"```\":\n",
      "\n",
      "```json\n",
      "{\n",
      "\t\"language\": string  // Язык текста. Название языка на английском языке. Пример: 'Russian', 'English', 'French', 'German'.\n",
      "\t\"main_character\": string  // Имя главного персонажа в тексте на том языке, на котором написан текст.\n",
      "}\n",
      "```\u001b[0m\n"
     ]
    },
    {
     "name": "stderr",
     "output_type": "stream",
     "text": [
      " 92%|█████████▏| 12/13 [00:16<00:01,  1.27s/it]"
     ]
    },
    {
     "name": "stdout",
     "output_type": "stream",
     "text": [
      "\n",
      "\u001b[1m> Finished chain.\u001b[0m\n",
      "\n",
      "\n",
      "\u001b[1m> Entering new LLMChain chain...\u001b[0m\n",
      "Prompt after formatting:\n",
      "\u001b[32;1m\u001b[1;3mПроанализируй следующий текст и определи язык, на котором он написан, и имя главного персонажа в тексте.\n",
      "\n",
      "Текст: La città era piena di vita, le strade piene del suono delle chiacchiere e del rumore dei passi. Tra la folla, un uomo di nome Giovanni si distingueva. Era un detective, noto per la sua mente acuta e le sue abilità di osservazione. I suoi compagni, Sarah e Mike, erano sempre al suo fianco, aiutandolo nelle sue indagini. Erano una squadra formidabile, risolvendo casi che sconcertavano anche gli ufficiali più esperti. Giovanni era un uomo di poche parole, ma le sue azioni parlavano molto. Viveva in una piccola città, dove tutti conoscevano tutti. I suoi migliori amici, Pietro e Maria, erano sempre al suo fianco. Erano cresciuti insieme, condividendo innumerevoli avventure e creando ricordi che sarebbero durati tutta la vita. Ma la vita nella piccola città non era sempre facile. Si trovavano di fronte a molte sfide, dai duri inverni alle occasionali dispute tra i cittadini. Ma nonostante tutto, Giovanni rimaneva un faro di speranza e resilienza. Il suo coraggio e la sua determinazione ispiravano coloro che lo circondavano, ed era sempre pronto a dare una mano.\n",
      "\n",
      "The output should be a markdown code snippet formatted in the following schema, including the leading and trailing \"```json\" and \"```\":\n",
      "\n",
      "```json\n",
      "{\n",
      "\t\"language\": string  // Язык текста. Название языка на английском языке. Пример: 'Russian', 'English', 'French', 'German'.\n",
      "\t\"main_character\": string  // Имя главного персонажа в тексте на том языке, на котором написан текст.\n",
      "}\n",
      "```\u001b[0m\n"
     ]
    },
    {
     "name": "stderr",
     "output_type": "stream",
     "text": [
      "100%|██████████| 13/13 [00:17<00:00,  1.33s/it]"
     ]
    },
    {
     "name": "stdout",
     "output_type": "stream",
     "text": [
      "\n",
      "\u001b[1m> Finished chain.\u001b[0m\n"
     ]
    },
    {
     "name": "stderr",
     "output_type": "stream",
     "text": [
      "\n"
     ]
    },
    {
     "data": {
      "text/html": [
       "<div><style>\n",
       ".dataframe > thead > tr,\n",
       ".dataframe > tbody > tr {\n",
       "  text-align: right;\n",
       "  white-space: pre-wrap;\n",
       "}\n",
       "</style>\n",
       "<small>shape: (5, 3)</small><table border=\"1\" class=\"dataframe\"><thead><tr><th>text</th><th>language</th><th>main_character</th></tr><tr><td>str</td><td>str</td><td>str</td></tr></thead><tbody><tr><td>&quot;The sun was setting, casting l…</td><td>&quot;English&quot;</td><td>&quot;John&quot;</td></tr><tr><td>&quot;Le soleil se couchait, jetant …</td><td>&quot;French&quot;</td><td>&quot;Pierre&quot;</td></tr><tr><td>&quot;El sol se estaba poniendo, pro…</td><td>&quot;Spanish&quot;</td><td>&quot;Carlos&quot;</td></tr><tr><td>&quot;La ciudad estaba llena de vida…</td><td>&quot;Spanish&quot;</td><td>&quot;Juan&quot;</td></tr><tr><td>&quot;La ville était pleine de vie, …</td><td>&quot;French&quot;</td><td>&quot;Jean&quot;</td></tr></tbody></table></div>"
      ],
      "text/plain": [
       "shape: (5, 3)\n",
       "┌─────────────────────────────────┬──────────┬────────────────┐\n",
       "│ text                            ┆ language ┆ main_character │\n",
       "│ ---                             ┆ ---      ┆ ---            │\n",
       "│ str                             ┆ str      ┆ str            │\n",
       "╞═════════════════════════════════╪══════════╪════════════════╡\n",
       "│ The sun was setting, casting l… ┆ English  ┆ John           │\n",
       "│ Le soleil se couchait, jetant … ┆ French   ┆ Pierre         │\n",
       "│ El sol se estaba poniendo, pro… ┆ Spanish  ┆ Carlos         │\n",
       "│ La ciudad estaba llena de vida… ┆ Spanish  ┆ Juan           │\n",
       "│ La ville était pleine de vie, … ┆ French   ┆ Jean           │\n",
       "└─────────────────────────────────┴──────────┴────────────────┘"
      ]
     },
     "execution_count": 22,
     "metadata": {},
     "output_type": "execute_result"
    }
   ],
   "source": [
    "# Создадим новый DataFrame с очищенными текстами\n",
    "# Применяем очистку текста правильным способом\n",
    "df_clean = df.clone()\n",
    "\n",
    "# Применяем очистку непосредственно к каждому тексту\n",
    "cleaned_texts = []\n",
    "for text in df['raw_text']:\n",
    "    # Очищаем текст от специальных символов\n",
    "    cleaned = text.replace(\"¿\", \"\").replace(\"¡\", \"\").replace(\"£\", \"\")\n",
    "    # Удаляем лишние пробелы с помощью регулярного выражения\n",
    "    cleaned = re.sub(r' +', ' ', cleaned)\n",
    "    # Удаляем пробелы в начале и конце\n",
    "    cleaned = cleaned.strip()\n",
    "    cleaned_texts.append(cleaned)\n",
    "\n",
    "# Добавляем очищенные тексты как новый столбец\n",
    "df_clean = df_clean.with_columns([\n",
    "    pl.Series(\"text\", cleaned_texts)\n",
    "])\n",
    "\n",
    "\n",
    "# Создадим пустые списки для хранения результатов анализа\n",
    "languages = []\n",
    "main_characters = []\n",
    "\n",
    "# Обрабатываем каждый текст\n",
    "for text in tqdm(df_clean['text']):\n",
    "    # Применяем цепочку к очищенному тексту\n",
    "    result = chain.run({\"text\": text})\n",
    "    # Парсим результат\n",
    "    if isinstance(result, str):\n",
    "        result = output_parser.parse(result)\n",
    "    \n",
    "    # Добавляем результаты в списки\n",
    "    languages.append(result[\"language\"])\n",
    "    main_characters.append(result[\"main_character\"])\n",
    "\n",
    "# Добавляем столбцы language и main_character в DataFrame\n",
    "df_clean = df_clean.with_columns([\n",
    "    pl.Series(\"language\", languages),\n",
    "    pl.Series(\"main_character\", main_characters)\n",
    "])\n",
    "\n",
    "# Выводим первые несколько строк для проверки\n",
    "df_clean.select(['text', 'language', 'main_character']).head()"
   ]
  },
  {
   "cell_type": "code",
   "execution_count": 23,
   "metadata": {},
   "outputs": [],
   "source": [
    "# Сохраняем результаты в CSV файл\n",
    "df_clean[['text', 'language', 'main_character']].write_csv('3.2.9_solution.csv')\n"
   ]
  },
  {
   "cell_type": "code",
   "execution_count": 19,
   "metadata": {},
   "outputs": [
    {
     "data": {
      "text/plain": [
       "polars.config.Config"
      ]
     },
     "execution_count": 19,
     "metadata": {},
     "output_type": "execute_result"
    }
   ],
   "source": [
    "pl.Config.set_tbl_rows(20)"
   ]
  },
  {
   "cell_type": "code",
   "execution_count": 21,
   "metadata": {},
   "outputs": [
    {
     "data": {
      "text/html": [
       "<div><style>\n",
       ".dataframe > thead > tr,\n",
       ".dataframe > tbody > tr {\n",
       "  text-align: right;\n",
       "  white-space: pre-wrap;\n",
       "}\n",
       "</style>\n",
       "<small>shape: (13, 4)</small><table border=\"1\" class=\"dataframe\"><thead><tr><th>raw_text</th><th>text</th><th>language</th><th>main_character</th></tr><tr><td>str</td><td>str</td><td>str</td><td>str</td></tr></thead><tbody><tr><td>&quot;The sun was setting, casting l…</td><td>&quot;The sun was setting, casting l…</td><td>&quot;English&quot;</td><td>&quot;John&quot;</td></tr><tr><td>&quot;Le soleil se couchait, jetant …</td><td>&quot;Le soleil se couchait, jetant …</td><td>&quot;French&quot;</td><td>&quot;Pierre&quot;</td></tr><tr><td>&quot;El sol se estaba poniendo, pro…</td><td>&quot;El sol se estaba poniendo, pro…</td><td>&quot;Spanish&quot;</td><td>&quot;Carlos&quot;</td></tr><tr><td>&quot;La ciudad estaba llena de vida…</td><td>&quot;La ciudad estaba llena de vida…</td><td>&quot;Spanish&quot;</td><td>&quot;Juan&quot;</td></tr><tr><td>&quot;La ville était pleine de vie, …</td><td>&quot;La ville était pleine de vie, …</td><td>&quot;French&quot;</td><td>&quot;Jean&quot;</td></tr><tr><td>&quot;Die Stadt¿ war voller Leben, i…</td><td>&quot;Die Stadt war voller Leben, ih…</td><td>&quot;German&quot;</td><td>&quot;Johann&quot;</td></tr><tr><td>&quot;Die Sonne g¿ing unter und warf…</td><td>&quot;Die Sonne ging unter und warf …</td><td>&quot;German&quot;</td><td>&quot;Hans&quot;</td></tr><tr><td>&quot;В тихом уголке старого города,…</td><td>&quot;В тихом уголке старого города,…</td><td>&quot;Russian&quot;</td><td>&quot;Анна&quot;</td></tr><tr><td>&quot;In a small town nestled betwee…</td><td>&quot;In a small town nestled betwee…</td><td>&quot;English&quot;</td><td>&quot;Laura&quot;</td></tr><tr><td>&quot;En un pequeño pueblo situado e…</td><td>&quot;En un pequeño pueblo situado e…</td><td>&quot;Spanish&quot;</td><td>&quot;Maria&quot;</td></tr><tr><td>&quot;Dans un petit village niché en…</td><td>&quot;Dans un petit village niché en…</td><td>&quot;French&quot;</td><td>&quot;Sophie&quot;</td></tr><tr><td>&quot;В городе было множество лю£дей…</td><td>&quot;В городе было множество людей,…</td><td>&quot;Russian&quot;</td><td>&quot;Иван&quot;</td></tr><tr><td>&quot;£La città era piena di vita, l…</td><td>&quot;La città era piena di vita, le…</td><td>&quot;Italian&quot;</td><td>&quot;Giovanni&quot;</td></tr></tbody></table></div>"
      ],
      "text/plain": [
       "shape: (13, 4)\n",
       "┌─────────────────────────────────┬─────────────────────────────────┬──────────┬────────────────┐\n",
       "│ raw_text                        ┆ text                            ┆ language ┆ main_character │\n",
       "│ ---                             ┆ ---                             ┆ ---      ┆ ---            │\n",
       "│ str                             ┆ str                             ┆ str      ┆ str            │\n",
       "╞═════════════════════════════════╪═════════════════════════════════╪══════════╪════════════════╡\n",
       "│ The sun was setting, casting l… ┆ The sun was setting, casting l… ┆ English  ┆ John           │\n",
       "│ Le soleil se couchait, jetant … ┆ Le soleil se couchait, jetant … ┆ French   ┆ Pierre         │\n",
       "│ El sol se estaba poniendo, pro… ┆ El sol se estaba poniendo, pro… ┆ Spanish  ┆ Carlos         │\n",
       "│ La ciudad estaba llena de vida… ┆ La ciudad estaba llena de vida… ┆ Spanish  ┆ Juan           │\n",
       "│ La ville était pleine de vie, … ┆ La ville était pleine de vie, … ┆ French   ┆ Jean           │\n",
       "│ Die Stadt¿ war voller Leben, i… ┆ Die Stadt war voller Leben, ih… ┆ German   ┆ Johann         │\n",
       "│ Die Sonne g¿ing unter und warf… ┆ Die Sonne ging unter und warf … ┆ German   ┆ Hans           │\n",
       "│ В тихом уголке старого города,… ┆ В тихом уголке старого города,… ┆ Russian  ┆ Анна           │\n",
       "│ In a small town nestled betwee… ┆ In a small town nestled betwee… ┆ English  ┆ Laura          │\n",
       "│ En un pequeño pueblo situado e… ┆ En un pequeño pueblo situado e… ┆ Spanish  ┆ Maria          │\n",
       "│ Dans un petit village niché en… ┆ Dans un petit village niché en… ┆ French   ┆ Sophie         │\n",
       "│ В городе было множество лю£дей… ┆ В городе было множество людей,… ┆ Russian  ┆ Иван           │\n",
       "│ £La città era piena di vita, l… ┆ La città era piena di vita, le… ┆ Italian  ┆ Giovanni       │\n",
       "└─────────────────────────────────┴─────────────────────────────────┴──────────┴────────────────┘"
      ]
     },
     "execution_count": 21,
     "metadata": {},
     "output_type": "execute_result"
    }
   ],
   "source": [
    "df"
   ]
  },
  {
   "cell_type": "code",
   "execution_count": 24,
   "metadata": {},
   "outputs": [],
   "source": [
    "df = pl.read_csv(\"https://stepik.org/media/attachments/lesson/1110884/custom_math_tools.csv\")"
   ]
  },
  {
   "cell_type": "code",
   "execution_count": 25,
   "metadata": {},
   "outputs": [
    {
     "data": {
      "text/html": [
       "<div><style>\n",
       ".dataframe > thead > tr,\n",
       ".dataframe > tbody > tr {\n",
       "  text-align: right;\n",
       "  white-space: pre-wrap;\n",
       "}\n",
       "</style>\n",
       "<small>shape: (10, 1)</small><table border=\"1\" class=\"dataframe\"><thead><tr><th>task</th></tr><tr><td>str</td></tr></thead><tbody><tr><td>&quot;Периметр прямоугольника со сто…</td></tr><tr><td>&quot;Найди сумму площадей круга с р…</td></tr><tr><td>&quot;Переведи числа 20 и 32 из деся…</td></tr><tr><td>&quot;Переведи числа из двоичной сис…</td></tr><tr><td>&quot;Найди объем цилиндра с радиусо…</td></tr><tr><td>&quot;Найди длину дуги окружности с …</td></tr><tr><td>&quot;Переведи десятичное число 1524…</td></tr><tr><td>&quot;Найти объем куба со стороной 5…</td></tr><tr><td>&quot;Стороны треугольника соответст…</td></tr><tr><td>&quot;Найди объемы двух цилиндров с …</td></tr></tbody></table></div>"
      ],
      "text/plain": [
       "shape: (10, 1)\n",
       "┌─────────────────────────────────┐\n",
       "│ task                            │\n",
       "│ ---                             │\n",
       "│ str                             │\n",
       "╞═════════════════════════════════╡\n",
       "│ Периметр прямоугольника со сто… │\n",
       "│ Найди сумму площадей круга с р… │\n",
       "│ Переведи числа 20 и 32 из деся… │\n",
       "│ Переведи числа из двоичной сис… │\n",
       "│ Найди объем цилиндра с радиусо… │\n",
       "│ Найди длину дуги окружности с … │\n",
       "│ Переведи десятичное число 1524… │\n",
       "│ Найти объем куба со стороной 5… │\n",
       "│ Стороны треугольника соответст… │\n",
       "│ Найди объемы двух цилиндров с … │\n",
       "└─────────────────────────────────┘"
      ]
     },
     "execution_count": 25,
     "metadata": {},
     "output_type": "execute_result"
    }
   ],
   "source": [
    "df"
   ]
  },
  {
   "cell_type": "code",
   "execution_count": null,
   "metadata": {},
   "outputs": [],
   "source": [
    "from math import pi, sqrt\n",
    "\n",
    "# 2 реализованные функции, как пример\n",
    "@tool\n",
    "def compute_arc_length(radius, angle_in_degrees):\n",
    "    \"\"\"Вычисляет длину дуги по радиусу и углу в градусах\"\"\"\n",
    "    return (angle_in_degrees / 360) * 2 * pi * radius\n",
    "\n",
    "\n",
    "@tool\n",
    "def compute_triangle_area(a, b, c):\n",
    "    \"\"\"Вычисляет площадь треугольника по длинам его сторон\"\"\"\n",
    "    s = (a + b + c) / 2\n",
    "    return sqrt(s * (s - a) * (s - b) * (s - c))\n",
    "\n",
    "# Реализуем остальные функции\n",
    "@tool\n",
    "def add_numbers(num1, num2):\n",
    "    \"\"\"Складывает два числа\"\"\"\n",
    "    return num1 + num2\n",
    "\n",
    "@tool\n",
    "def convert_meters_to_cm(num):\n",
    "    \"\"\"Переводит метры в сантиметры\"\"\"\n",
    "    return num * 100\n",
    "\n",
    "@tool\n",
    "def convert_cubic_cm_to_liters(num):\n",
    "    \"\"\"Переводит кубические сантиметры в литры\"\"\"\n",
    "    return num / 1000\n",
    "\n",
    "@tool\n",
    "def compute_rectangle_perimeter(a, b):\n",
    "    \"\"\"Вычисляет периметр прямоугольника\"\"\"\n",
    "    return 2 * (a + b)\n",
    "\n",
    "@tool\n",
    "def compute_circle_area(radius):\n",
    "    \"\"\"Вычисляет площадь круга\"\"\"\n",
    "    return pi * radius ** 2\n",
    "\n",
    "@tool\n",
    "def compute_cylinder_volume(radius, height):\n",
    "    \"\"\"Вычисляет объем цилиндра\"\"\"\n",
    "    return pi * radius ** 2 * height\n",
    "\n",
    "@tool\n",
    "def compute_cube_volume(a):\n",
    "    \"\"\"Вычисляет объем куба\"\"\"\n",
    "    return a ** 3\n",
    "\n",
    "@tool\n",
    "def convert_binary_to_decimal(binary_number: str):\n",
    "    \"\"\"Переводит число из двоичной системы счисления в десятичную систему счисления\"\"\"\n",
    "    return int(binary_number, 2)\n",
    "\n",
    "@tool\n",
    "def convert_decimal_to_binary(decimal_number):\n",
    "    \"\"\"Переводит число из десятичной системы счисления в двоичную систему счисления\"\"\"\n",
    "    return bin(decimal_number)[2:]  # [2:] отрезает префикс '0b'\n",
    "\n",
    "@tool\n",
    "def get_count_ones(number: str):\n",
    "    \"\"\"Находит количество единиц в двоичном представлении числа\"\"\"\n",
    "    # Если передано десятичное число, сначала переводим его в двоичную систему\n",
    "    if isinstance(number, int):\n",
    "        binary = bin(number)[2:]\n",
    "    else:\n",
    "        # Если передана строка, проверяем, что это двоичное число\n",
    "        try:\n",
    "            int(number, 2)\n",
    "            binary = number\n",
    "        except ValueError:\n",
    "            # Если это не двоичное число, считаем, что это десятичное и переводим\n",
    "            binary = bin(int(number))[2:]\n",
    "    \n",
    "    return binary.count('1')\n",
    "\n",
    "# Поместим все написанные функции в tools\n",
    "tools = [\n",
    "    compute_arc_length, \n",
    "    compute_triangle_area,\n",
    "    add_numbers,\n",
    "    convert_meters_to_cm,\n",
    "    convert_cubic_cm_to_liters,\n",
    "    compute_rectangle_perimeter,\n",
    "    compute_circle_area,\n",
    "    compute_cylinder_volume,\n",
    "    compute_cube_volume,\n",
    "    convert_binary_to_decimal,\n",
    "    convert_decimal_to_binary,\n",
    "    get_count_ones\n",
    "]"
   ]
  },
  {
   "cell_type": "code",
   "execution_count": 28,
   "metadata": {},
   "outputs": [],
   "source": [
    "df = pl.read_csv('math_solutions.csv')  "
   ]
  },
  {
   "cell_type": "code",
   "execution_count": 29,
   "metadata": {},
   "outputs": [
    {
     "data": {
      "text/html": [
       "<div><style>\n",
       ".dataframe > thead > tr,\n",
       ".dataframe > tbody > tr {\n",
       "  text-align: right;\n",
       "  white-space: pre-wrap;\n",
       "}\n",
       "</style>\n",
       "<small>shape: (10, 2)</small><table border=\"1\" class=\"dataframe\"><thead><tr><th>task</th><th>answer</th></tr><tr><td>str</td><td>f64</td></tr></thead><tbody><tr><td>&quot;Периметр прямоугольника со сто…</td><td>700.0</td></tr><tr><td>&quot;Найди сумму площадей круга с р…</td><td>106.81415</td></tr><tr><td>&quot;Переведи числа 20 и 32 из деся…</td><td>3.0</td></tr><tr><td>&quot;Переведи числа из двоичной сис…</td><td>901.0</td></tr><tr><td>&quot;Найди объем цилиндра с радиусо…</td><td>9.424778</td></tr><tr><td>&quot;Найди длину дуги окружности с …</td><td>2094.395102</td></tr><tr><td>&quot;Переведи десятичное число 1524…</td><td>7.0</td></tr><tr><td>&quot;Найти объем куба со стороной 5…</td><td>1.111101e6</td></tr><tr><td>&quot;Стороны треугольника соответст…</td><td>600.0</td></tr><tr><td>&quot;Найди объемы двух цилиндров с …</td><td>15.330972</td></tr></tbody></table></div>"
      ],
      "text/plain": [
       "shape: (10, 2)\n",
       "┌─────────────────────────────────┬─────────────┐\n",
       "│ task                            ┆ answer      │\n",
       "│ ---                             ┆ ---         │\n",
       "│ str                             ┆ f64         │\n",
       "╞═════════════════════════════════╪═════════════╡\n",
       "│ Периметр прямоугольника со сто… ┆ 700.0       │\n",
       "│ Найди сумму площадей круга с р… ┆ 106.81415   │\n",
       "│ Переведи числа 20 и 32 из деся… ┆ 3.0         │\n",
       "│ Переведи числа из двоичной сис… ┆ 901.0       │\n",
       "│ Найди объем цилиндра с радиусо… ┆ 9.424778    │\n",
       "│ Найди длину дуги окружности с … ┆ 2094.395102 │\n",
       "│ Переведи десятичное число 1524… ┆ 7.0         │\n",
       "│ Найти объем куба со стороной 5… ┆ 1.111101e6  │\n",
       "│ Стороны треугольника соответст… ┆ 600.0       │\n",
       "│ Найди объемы двух цилиндров с … ┆ 15.330972   │\n",
       "└─────────────────────────────────┴─────────────┘"
      ]
     },
     "execution_count": 29,
     "metadata": {},
     "output_type": "execute_result"
    }
   ],
   "source": [
    "df"
   ]
  },
  {
   "cell_type": "code",
   "execution_count": null,
   "metadata": {},
   "outputs": [],
   "source": []
  }
 ],
 "metadata": {
  "colab": {
   "provenance": []
  },
  "kernelspec": {
   "display_name": "stepik-bQSCubr5-py3.12",
   "language": "python",
   "name": "python3"
  },
  "language_info": {
   "codemirror_mode": {
    "name": "ipython",
    "version": 3
   },
   "file_extension": ".py",
   "mimetype": "text/x-python",
   "name": "python",
   "nbconvert_exporter": "python",
   "pygments_lexer": "ipython3",
   "version": "3.12.3"
  }
 },
 "nbformat": 4,
 "nbformat_minor": 0
}
